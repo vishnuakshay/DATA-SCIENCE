{
 "cells": [
  {
   "cell_type": "markdown",
   "metadata": {},
   "source": [
    "## Discretisation\n",
    "\n",
    "Discretisation is the process of transforming continuous variables into discrete variables by creating a set of contiguous intervals that spans the range of the variable's values.\n",
    "\n",
    "### Discretisation helps handle outliers and highly skewed variables\n",
    "\n",
    "Discretisation helps handle outliers by placing these values into the lower or higher intervals together with the remaining inlier values of the distribution. Thus, these outlier observations no longer differ from the rest of the values at the tails of the distribution, as they are now all together in the same interval / bucket. In addition, by creating appropriate bins or intervals, discretisation can help spread the values of a skewed variable across a set of bins with equal number of observations.\n",
    "\n",
    "\n",
    "### Discretisation approaches\n",
    "\n",
    "There are several approaches to transform continuous variables into discrete ones. This process is also known as **binning**, with each bin being each  interval. Discretisation methods fall into 2 categories: **supervised and unsupervised**. Unsupervised methods do not use any information, other than the variable distribution, to create the contiguous bins in which the values will be placed. Supervised methods typically use target information in order to create the bins or intervals.\n",
    "\n",
    "####  Unsupervised discretisation methods\n",
    "\n",
    "- Equal width binning\n",
    "- Equal frequency binning\n",
    "\n",
    "\n",
    "#### Supervised discretisation methods\n",
    "\n",
    "- Discretisation using decision trees\n",
    "\n",
    "\n",
    "In this lecture, I will describe **equal frequency discretisation**, and in the following sections I will expand on the other methods to make variables discrete.\n",
    "\n",
    "## Equal frequency discretisation\n",
    "\n",
    "Equal frequency binning divides the scope of possible values of the variable into N bins, where each bin carries the same amount of observations. This is particularly useful for skewed variables as it spreads the observations over the different bins equally. Typically, we find the interval boundaries by determining the quantiles.\n",
    "\n",
    "Equal frequency discretisation using quantiles consists of dividing the continuous variable into N quantiles, N to be defined by the user. There is no rule of thumb to define N. However, if we think of the discrete variable as a categorical variable, where each bin is a category, we would like to keep N (the number of categories) low (typically no more than 10).\n",
    "\n",
    "Equal frequency binning is straightforward to implement and by spreading the values of the observations more evenly it may help boost the algorithm's performance. On the other hand, this arbitrary binning may also disrupt the relationship with the target on occasions. Therefore, whenever possible, it will bring value to examine whether this type of binning is the right strategy, and it will depend on the variable and the algorithm that we want to use to make the predictions.\n",
    "\n",
    "I will demonstrate how to perform equal frequency binning using the Titanic dataset."
   ]
  },
  {
   "cell_type": "markdown",
   "metadata": {},
   "source": [
    "## Titanic dataset"
   ]
  },
  {
   "cell_type": "code",
   "execution_count": 1,
   "metadata": {
    "collapsed": true
   },
   "outputs": [],
   "source": [
    "import pandas as pd\n",
    "import numpy as np\n",
    "\n",
    "import matplotlib.pyplot as plt\n",
    "% matplotlib inline\n",
    "\n",
    "from sklearn.model_selection import train_test_split"
   ]
  },
  {
   "cell_type": "code",
   "execution_count": 2,
   "metadata": {},
   "outputs": [
    {
     "data": {
      "text/html": [
       "<div>\n",
       "<style>\n",
       "    .dataframe thead tr:only-child th {\n",
       "        text-align: right;\n",
       "    }\n",
       "\n",
       "    .dataframe thead th {\n",
       "        text-align: left;\n",
       "    }\n",
       "\n",
       "    .dataframe tbody tr th {\n",
       "        vertical-align: top;\n",
       "    }\n",
       "</style>\n",
       "<table border=\"1\" class=\"dataframe\">\n",
       "  <thead>\n",
       "    <tr style=\"text-align: right;\">\n",
       "      <th></th>\n",
       "      <th>Survived</th>\n",
       "      <th>Age</th>\n",
       "      <th>Fare</th>\n",
       "    </tr>\n",
       "  </thead>\n",
       "  <tbody>\n",
       "    <tr>\n",
       "      <th>0</th>\n",
       "      <td>0</td>\n",
       "      <td>22.0</td>\n",
       "      <td>7.2500</td>\n",
       "    </tr>\n",
       "    <tr>\n",
       "      <th>1</th>\n",
       "      <td>1</td>\n",
       "      <td>38.0</td>\n",
       "      <td>71.2833</td>\n",
       "    </tr>\n",
       "    <tr>\n",
       "      <th>2</th>\n",
       "      <td>1</td>\n",
       "      <td>26.0</td>\n",
       "      <td>7.9250</td>\n",
       "    </tr>\n",
       "    <tr>\n",
       "      <th>3</th>\n",
       "      <td>1</td>\n",
       "      <td>35.0</td>\n",
       "      <td>53.1000</td>\n",
       "    </tr>\n",
       "    <tr>\n",
       "      <th>4</th>\n",
       "      <td>0</td>\n",
       "      <td>35.0</td>\n",
       "      <td>8.0500</td>\n",
       "    </tr>\n",
       "  </tbody>\n",
       "</table>\n",
       "</div>"
      ],
      "text/plain": [
       "   Survived   Age     Fare\n",
       "0         0  22.0   7.2500\n",
       "1         1  38.0  71.2833\n",
       "2         1  26.0   7.9250\n",
       "3         1  35.0  53.1000\n",
       "4         0  35.0   8.0500"
      ]
     },
     "execution_count": 2,
     "metadata": {},
     "output_type": "execute_result"
    }
   ],
   "source": [
    "# load the numerical variables of the Titanic Dataset\n",
    "\n",
    "data = pd.read_csv('titanic.csv', usecols = ['Age', 'Fare', 'Survived'])\n",
    "data.head()"
   ]
  },
  {
   "cell_type": "code",
   "execution_count": 3,
   "metadata": {},
   "outputs": [
    {
     "data": {
      "text/plain": [
       "((623, 3), (268, 3))"
      ]
     },
     "execution_count": 3,
     "metadata": {},
     "output_type": "execute_result"
    }
   ],
   "source": [
    "# Let's separate into train and test set\n",
    "\n",
    "X_train, X_test, y_train, y_test = train_test_split(data[['Age', 'Fare', 'Survived']],\n",
    "                                                    data.Survived, test_size=0.3,\n",
    "                                                    random_state=0)\n",
    "X_train.shape, X_test.shape"
   ]
  },
  {
   "cell_type": "markdown",
   "metadata": {},
   "source": [
    "The variable Age contains missing data, that I will fill by extracting a random sample of the variable."
   ]
  },
  {
   "cell_type": "code",
   "execution_count": 4,
   "metadata": {
    "collapsed": true
   },
   "outputs": [],
   "source": [
    "def impute_na(data, variable):\n",
    "    # function to fill NA with a random sample\n",
    "    \n",
    "    df = data.copy()\n",
    "    \n",
    "    # random sampling\n",
    "    df[variable+'_random'] = df[variable]\n",
    "    \n",
    "    # extract the random sample to fill the na\n",
    "    random_sample = X_train[variable].dropna().sample(df[variable].isnull().sum(), random_state=0)\n",
    "    \n",
    "    # pandas needs to have the same index in order to merge datasets\n",
    "    random_sample.index = df[df[variable].isnull()].index\n",
    "    df.loc[df[variable].isnull(), variable+'_random'] = random_sample\n",
    "    \n",
    "    return df[variable+'_random']"
   ]
  },
  {
   "cell_type": "code",
   "execution_count": 5,
   "metadata": {
    "collapsed": true
   },
   "outputs": [],
   "source": [
    "# replace NA in both train and test sets\n",
    "\n",
    "X_train['Age'] = impute_na(data, 'Age')\n",
    "X_test['Age'] = impute_na(data, 'Age')"
   ]
  },
  {
   "cell_type": "markdown",
   "metadata": {},
   "source": [
    "### Age\n",
    "#### Original distribution"
   ]
  },
  {
   "cell_type": "code",
   "execution_count": 6,
   "metadata": {},
   "outputs": [
    {
     "data": {
      "text/plain": [
       "<matplotlib.axes._subplots.AxesSubplot at 0x4c102bf4e0>"
      ]
     },
     "execution_count": 6,
     "metadata": {},
     "output_type": "execute_result"
    },
    {
     "data": {
      "image/png": "[encoded data removed]",
      "text/plain": [
       "<matplotlib.figure.Figure at 0x4c0f8a53c8>"
      ]
     },
     "metadata": {},
     "output_type": "display_data"
    }
   ],
   "source": [
    "# let's remind ourselves of the original distribution\n",
    "\n",
    "data.Age.hist()"
   ]
  },
  {
   "cell_type": "markdown",
   "metadata": {},
   "source": [
    "**How does survival correlate with Age?**\n",
    "\n",
    "We can determine the relation between survival and Age by plotting the mean survival per Age. In this case, I will calculate the Survival rate per each year of Age. See below."
   ]
  },
  {
   "cell_type": "code",
   "execution_count": 7,
   "metadata": {},
   "outputs": [
    {
     "data": {
      "text/plain": [
       "<matplotlib.text.Text at 0x4c11768978>"
      ]
     },
     "execution_count": 7,
     "metadata": {},
     "output_type": "execute_result"
    },
    {
     "data": {
      "image/png": "[encoded data removed]",
      "text/plain": [
       "<matplotlib.figure.Figure at 0x4c0d503240>"
      ]
     },
     "metadata": {},
     "output_type": "display_data"
    }
   ],
   "source": [
    "fig = plt.figure()\n",
    "fig = data.groupby(['Age'])['Survived'].mean().plot()\n",
    "fig.set_title('Normal relationship between variable and target')\n",
    "fig.set_ylabel('Survived')"
   ]
  },
  {
   "cell_type": "markdown",
   "metadata": {},
   "source": [
    "By looking at the plot, we get an intuition that younger people (children) were more likely to survive (see higher survival rates at ages below 10 and 10-15). However, it looks like children of 10 years of age, had a very low survival chance. This does not make a lot of sense and most likely indicates that our 10 year old sample is not big enough and then the survival rate is underestimated. Let's see below."
   ]
  },
  {
   "cell_type": "code",
   "execution_count": 8,
   "metadata": {},
   "outputs": [
    {
     "data": {
      "text/plain": [
       "<matplotlib.text.Text at 0x4c11768320>"
      ]
     },
     "execution_count": 8,
     "metadata": {},
     "output_type": "execute_result"
    },
    {
     "data": {
      "image/png": "[encoded data removed]",
      "text/plain": [
       "<matplotlib.figure.Figure at 0x4c118077f0>"
      ]
     },
     "metadata": {},
     "output_type": "display_data"
    }
   ],
   "source": [
    "# here I plot the number of passengers within each 1 year age bucket / bin\n",
    "fig = plt.figure()\n",
    "fig = data.groupby(['Age'])['Survived'].count().plot()\n",
    "fig.set_title('Number of people per year age bin')\n",
    "fig.set_ylabel('Survived')"
   ]
  },
  {
   "cell_type": "markdown",
   "metadata": {},
   "source": [
    "As we suspected, there were very few children at the age of 10 on the Titanic. If none of them or only half of the 10 year old children survived, we would be led to think that being 10 years old decreased your chances of survival, when in reality, there were only 2 children of the age that were not lucky enough  to survive, therefore leading to underestimation of survival rate.\n",
    "\n",
    "By grouping Age into bins, we can get a better view of the survival rate depending on the Age of the passenger. Let's see below.\n",
    "\n",
    "### Discretisation with quantiles"
   ]
  },
  {
   "cell_type": "code",
   "execution_count": 9,
   "metadata": {},
   "outputs": [
    {
     "data": {
      "text/html": [
       "<div>\n",
       "<style>\n",
       "    .dataframe thead tr:only-child th {\n",
       "        text-align: right;\n",
       "    }\n",
       "\n",
       "    .dataframe thead th {\n",
       "        text-align: left;\n",
       "    }\n",
       "\n",
       "    .dataframe tbody tr th {\n",
       "        vertical-align: top;\n",
       "    }\n",
       "</style>\n",
       "<table border=\"1\" class=\"dataframe\">\n",
       "  <thead>\n",
       "    <tr style=\"text-align: right;\">\n",
       "      <th></th>\n",
       "      <th>Age</th>\n",
       "      <th>Age</th>\n",
       "    </tr>\n",
       "  </thead>\n",
       "  <tbody>\n",
       "    <tr>\n",
       "      <th>0</th>\n",
       "      <td>(20.125, 28.0]</td>\n",
       "      <td>22.0</td>\n",
       "    </tr>\n",
       "    <tr>\n",
       "      <th>1</th>\n",
       "      <td>(28.0, 38.0]</td>\n",
       "      <td>38.0</td>\n",
       "    </tr>\n",
       "    <tr>\n",
       "      <th>2</th>\n",
       "      <td>(20.125, 28.0]</td>\n",
       "      <td>26.0</td>\n",
       "    </tr>\n",
       "    <tr>\n",
       "      <th>3</th>\n",
       "      <td>(28.0, 38.0]</td>\n",
       "      <td>35.0</td>\n",
       "    </tr>\n",
       "    <tr>\n",
       "      <th>4</th>\n",
       "      <td>(28.0, 38.0]</td>\n",
       "      <td>35.0</td>\n",
       "    </tr>\n",
       "    <tr>\n",
       "      <th>5</th>\n",
       "      <td>NaN</td>\n",
       "      <td>NaN</td>\n",
       "    </tr>\n",
       "    <tr>\n",
       "      <th>6</th>\n",
       "      <td>(38.0, 80.0]</td>\n",
       "      <td>54.0</td>\n",
       "    </tr>\n",
       "    <tr>\n",
       "      <th>7</th>\n",
       "      <td>(0.419, 20.125]</td>\n",
       "      <td>2.0</td>\n",
       "    </tr>\n",
       "    <tr>\n",
       "      <th>8</th>\n",
       "      <td>(20.125, 28.0]</td>\n",
       "      <td>27.0</td>\n",
       "    </tr>\n",
       "    <tr>\n",
       "      <th>9</th>\n",
       "      <td>(0.419, 20.125]</td>\n",
       "      <td>14.0</td>\n",
       "    </tr>\n",
       "  </tbody>\n",
       "</table>\n",
       "</div>"
      ],
      "text/plain": [
       "               Age   Age\n",
       "0   (20.125, 28.0]  22.0\n",
       "1     (28.0, 38.0]  38.0\n",
       "2   (20.125, 28.0]  26.0\n",
       "3     (28.0, 38.0]  35.0\n",
       "4     (28.0, 38.0]  35.0\n",
       "5              NaN   NaN\n",
       "6     (38.0, 80.0]  54.0\n",
       "7  (0.419, 20.125]   2.0\n",
       "8   (20.125, 28.0]  27.0\n",
       "9  (0.419, 20.125]  14.0"
      ]
     },
     "execution_count": 9,
     "metadata": {},
     "output_type": "execute_result"
    }
   ],
   "source": [
    "# I will divide Age in 5 bins. I use the qcut (quantile cut) function from pandas and I indicate that I want 4 cutting points, thus 5 bins.\n",
    "# retbins= True indicates that I want to capture the limits of each interval (so I can then use them to cut the test set)\n",
    "\n",
    "Age_disccretised, intervals = pd.qcut(data.Age, 4, labels=None, retbins=True, precision=3, duplicates='raise')\n",
    "pd.concat([Age_disccretised, data.Age], axis=1).head(10)"
   ]
  },
  {
   "cell_type": "markdown",
   "metadata": {},
   "source": [
    "We can see in the above output how by discretising using quantiles, we placed each Age observation within one interval. For example, age 22 was placed in the 20-28 interval, whereas age 38 was placed into the 28-28 interval. We can visualise the interval cut points below."
   ]
  },
  {
   "cell_type": "code",
   "execution_count": 10,
   "metadata": {
    "scrolled": false
   },
   "outputs": [
    {
     "data": {
      "text/plain": [
       "array([  0.42 ,  20.125,  28.   ,  38.   ,  80.   ])"
      ]
     },
     "execution_count": 10,
     "metadata": {},
     "output_type": "execute_result"
    }
   ],
   "source": [
    "intervals"
   ]
  },
  {
   "cell_type": "markdown",
   "metadata": {},
   "source": [
    "And because we generated the bins using the quantile cut method, we should have roughly the same amount of observations per bin. See below."
   ]
  },
  {
   "cell_type": "code",
   "execution_count": 11,
   "metadata": {},
   "outputs": [
    {
     "data": {
      "text/plain": [
       "Age_discretised\n",
       "(0.419, 20.125]    179\n",
       "(20.125, 28.0]     183\n",
       "(28.0, 38.0]       175\n",
       "(38.0, 80.0]       177\n",
       "Name: Age, dtype: int64"
      ]
     },
     "execution_count": 11,
     "metadata": {},
     "output_type": "execute_result"
    }
   ],
   "source": [
    "# calculate number of passengers per bin\n",
    "temp = pd.concat([Age_disccretised, data.Age], axis=1)\n",
    "temp.columns = ['Age_discretised', 'Age']\n",
    "temp.groupby('Age_discretised')['Age'].count()"
   ]
  },
  {
   "cell_type": "code",
   "execution_count": 12,
   "metadata": {
    "scrolled": true
   },
   "outputs": [
    {
     "data": {
      "text/plain": [
       "0    Q2\n",
       "1    Q3\n",
       "2    Q2\n",
       "3    Q3\n",
       "4    Q3\n",
       "Name: Age, dtype: category\n",
       "Categories (4, object): [Q1 < Q2 < Q3 < Q4]"
      ]
     },
     "execution_count": 12,
     "metadata": {},
     "output_type": "execute_result"
    }
   ],
   "source": [
    "# we can also add labels instead of having the interval boundaries, to the bins, as follows:\n",
    "\n",
    "Age_disccretised, intervals = pd.qcut(data.Age, 4, labels=['Q1', 'Q2', 'Q3', 'Q4'], retbins=True, precision=3, duplicates='raise')\n",
    "Age_disccretised.head()"
   ]
  },
  {
   "cell_type": "code",
   "execution_count": 13,
   "metadata": {},
   "outputs": [
    {
     "name": "stdout",
     "output_type": "stream",
     "text": [
      "['Q1', 'Q2', 'Q3', 'Q4', 'Q5', 'Q6', 'Q7', 'Q8', 'Q9', 'Q10']\n"
     ]
    },
    {
     "data": {
      "text/html": [
       "<div>\n",
       "<style>\n",
       "    .dataframe thead tr:only-child th {\n",
       "        text-align: right;\n",
       "    }\n",
       "\n",
       "    .dataframe thead th {\n",
       "        text-align: left;\n",
       "    }\n",
       "\n",
       "    .dataframe tbody tr th {\n",
       "        vertical-align: top;\n",
       "    }\n",
       "</style>\n",
       "<table border=\"1\" class=\"dataframe\">\n",
       "  <thead>\n",
       "    <tr style=\"text-align: right;\">\n",
       "      <th></th>\n",
       "      <th>Age</th>\n",
       "      <th>Fare</th>\n",
       "      <th>Survived</th>\n",
       "      <th>Age_disc_label</th>\n",
       "      <th>Age_disc</th>\n",
       "    </tr>\n",
       "  </thead>\n",
       "  <tbody>\n",
       "    <tr>\n",
       "      <th>857</th>\n",
       "      <td>51.0</td>\n",
       "      <td>26.5500</td>\n",
       "      <td>1</td>\n",
       "      <td>Q10</td>\n",
       "      <td>(49.0, 80.0]</td>\n",
       "    </tr>\n",
       "    <tr>\n",
       "      <th>52</th>\n",
       "      <td>49.0</td>\n",
       "      <td>76.7292</td>\n",
       "      <td>1</td>\n",
       "      <td>Q9</td>\n",
       "      <td>(41.6, 49.0]</td>\n",
       "    </tr>\n",
       "    <tr>\n",
       "      <th>386</th>\n",
       "      <td>1.0</td>\n",
       "      <td>46.9000</td>\n",
       "      <td>0</td>\n",
       "      <td>Q1</td>\n",
       "      <td>(0.669, 13.2]</td>\n",
       "    </tr>\n",
       "    <tr>\n",
       "      <th>124</th>\n",
       "      <td>54.0</td>\n",
       "      <td>77.2875</td>\n",
       "      <td>0</td>\n",
       "      <td>Q10</td>\n",
       "      <td>(49.0, 80.0]</td>\n",
       "    </tr>\n",
       "    <tr>\n",
       "      <th>578</th>\n",
       "      <td>14.5</td>\n",
       "      <td>14.4583</td>\n",
       "      <td>0</td>\n",
       "      <td>Q2</td>\n",
       "      <td>(13.2, 19.0]</td>\n",
       "    </tr>\n",
       "    <tr>\n",
       "      <th>549</th>\n",
       "      <td>8.0</td>\n",
       "      <td>36.7500</td>\n",
       "      <td>1</td>\n",
       "      <td>Q1</td>\n",
       "      <td>(0.669, 13.2]</td>\n",
       "    </tr>\n",
       "    <tr>\n",
       "      <th>118</th>\n",
       "      <td>24.0</td>\n",
       "      <td>247.5208</td>\n",
       "      <td>0</td>\n",
       "      <td>Q4</td>\n",
       "      <td>(22.0, 26.0]</td>\n",
       "    </tr>\n",
       "    <tr>\n",
       "      <th>12</th>\n",
       "      <td>20.0</td>\n",
       "      <td>8.0500</td>\n",
       "      <td>0</td>\n",
       "      <td>Q3</td>\n",
       "      <td>(19.0, 22.0]</td>\n",
       "    </tr>\n",
       "    <tr>\n",
       "      <th>157</th>\n",
       "      <td>30.0</td>\n",
       "      <td>8.0500</td>\n",
       "      <td>0</td>\n",
       "      <td>Q6</td>\n",
       "      <td>(29.0, 32.0]</td>\n",
       "    </tr>\n",
       "    <tr>\n",
       "      <th>127</th>\n",
       "      <td>24.0</td>\n",
       "      <td>7.1417</td>\n",
       "      <td>1</td>\n",
       "      <td>Q4</td>\n",
       "      <td>(22.0, 26.0]</td>\n",
       "    </tr>\n",
       "  </tbody>\n",
       "</table>\n",
       "</div>"
      ],
      "text/plain": [
       "      Age      Fare  Survived Age_disc_label       Age_disc\n",
       "857  51.0   26.5500         1            Q10   (49.0, 80.0]\n",
       "52   49.0   76.7292         1             Q9   (41.6, 49.0]\n",
       "386   1.0   46.9000         0             Q1  (0.669, 13.2]\n",
       "124  54.0   77.2875         0            Q10   (49.0, 80.0]\n",
       "578  14.5   14.4583         0             Q2   (13.2, 19.0]\n",
       "549   8.0   36.7500         1             Q1  (0.669, 13.2]\n",
       "118  24.0  247.5208         0             Q4   (22.0, 26.0]\n",
       "12   20.0    8.0500         0             Q3   (19.0, 22.0]\n",
       "157  30.0    8.0500         0             Q6   (29.0, 32.0]\n",
       "127  24.0    7.1417         1             Q4   (22.0, 26.0]"
      ]
     },
     "execution_count": 13,
     "metadata": {},
     "output_type": "execute_result"
    }
   ],
   "source": [
    "# and now, I will divide into 10 quantiles for the rest of the exercise. I will leave the quantile\n",
    "# boundary and generate labels as well for comparison\n",
    "\n",
    "# create 10 labels, one for each quantile\n",
    "labels = ['Q'+str(i+1) for i in range(0,10)]\n",
    "print(labels)\n",
    "\n",
    "# bins with labels\n",
    "X_train['Age_disc_label'], bins = pd.qcut(x=X_train.Age, q=10, labels=labels, retbins=True, precision=3, duplicates='raise')\n",
    "\n",
    "# bins with boundaries\n",
    "X_train['Age_disc'], bins = pd.qcut(x=X_train.Age, q=10, retbins=True, precision=3, duplicates='raise')\n",
    "\n",
    "\n",
    "X_train.head(10)"
   ]
  },
  {
   "cell_type": "markdown",
   "metadata": {},
   "source": [
    "Age 51 was placed into the 49-80 bucket, which is also the last bucket (Q10) in our distribution, as it contains the majority of the elder people. The age of 8 was placed into the 0-13 bucket, which is the first interval (Q1) of the discretised variable. And below the interval limits."
   ]
  },
  {
   "cell_type": "code",
   "execution_count": 14,
   "metadata": {},
   "outputs": [
    {
     "data": {
      "text/plain": [
       "array([  0.67,  13.2 ,  19.  ,  22.  ,  26.  ,  29.  ,  32.  ,  36.  ,\n",
       "        41.6 ,  49.  ,  80.  ])"
      ]
     },
     "execution_count": 14,
     "metadata": {},
     "output_type": "execute_result"
    }
   ],
   "source": [
    "bins"
   ]
  },
  {
   "cell_type": "markdown",
   "metadata": {},
   "source": [
    "To divide the test set, we will use the cut method of pandas, and we will pass the interval edges above. \n",
    "\n",
    "As with all feature engineering methods, the limits of the intervals should be set on the training set, and then propagated to the test set. We should not calculate the quantiles in the test set. We should use the limits estimated using the train set data. If the distributions are similar, we should expect to have roughly the same amount of observations in each age bucket in the test set as well."
   ]
  },
  {
   "cell_type": "code",
   "execution_count": 15,
   "metadata": {},
   "outputs": [
    {
     "data": {
      "text/html": [
       "<div>\n",
       "<style>\n",
       "    .dataframe thead tr:only-child th {\n",
       "        text-align: right;\n",
       "    }\n",
       "\n",
       "    .dataframe thead th {\n",
       "        text-align: left;\n",
       "    }\n",
       "\n",
       "    .dataframe tbody tr th {\n",
       "        vertical-align: top;\n",
       "    }\n",
       "</style>\n",
       "<table border=\"1\" class=\"dataframe\">\n",
       "  <thead>\n",
       "    <tr style=\"text-align: right;\">\n",
       "      <th></th>\n",
       "      <th>Age</th>\n",
       "      <th>Fare</th>\n",
       "      <th>Survived</th>\n",
       "      <th>Age_disc_label</th>\n",
       "      <th>Age_disc</th>\n",
       "    </tr>\n",
       "  </thead>\n",
       "  <tbody>\n",
       "    <tr>\n",
       "      <th>495</th>\n",
       "      <td>42.0</td>\n",
       "      <td>14.4583</td>\n",
       "      <td>0</td>\n",
       "      <td>Q9</td>\n",
       "      <td>(41.6, 49.0]</td>\n",
       "    </tr>\n",
       "    <tr>\n",
       "      <th>648</th>\n",
       "      <td>18.0</td>\n",
       "      <td>7.5500</td>\n",
       "      <td>0</td>\n",
       "      <td>Q2</td>\n",
       "      <td>(13.2, 19.0]</td>\n",
       "    </tr>\n",
       "    <tr>\n",
       "      <th>278</th>\n",
       "      <td>7.0</td>\n",
       "      <td>29.1250</td>\n",
       "      <td>0</td>\n",
       "      <td>Q1</td>\n",
       "      <td>(0.67, 13.2]</td>\n",
       "    </tr>\n",
       "    <tr>\n",
       "      <th>31</th>\n",
       "      <td>35.0</td>\n",
       "      <td>146.5208</td>\n",
       "      <td>1</td>\n",
       "      <td>Q7</td>\n",
       "      <td>(32.0, 36.0]</td>\n",
       "    </tr>\n",
       "    <tr>\n",
       "      <th>255</th>\n",
       "      <td>29.0</td>\n",
       "      <td>15.2458</td>\n",
       "      <td>1</td>\n",
       "      <td>Q5</td>\n",
       "      <td>(26.0, 29.0]</td>\n",
       "    </tr>\n",
       "  </tbody>\n",
       "</table>\n",
       "</div>"
      ],
      "text/plain": [
       "      Age      Fare  Survived Age_disc_label      Age_disc\n",
       "495  42.0   14.4583         0             Q9  (41.6, 49.0]\n",
       "648  18.0    7.5500         0             Q2  (13.2, 19.0]\n",
       "278   7.0   29.1250         0             Q1  (0.67, 13.2]\n",
       "31   35.0  146.5208         1             Q7  (32.0, 36.0]\n",
       "255  29.0   15.2458         1             Q5  (26.0, 29.0]"
      ]
     },
     "execution_count": 15,
     "metadata": {},
     "output_type": "execute_result"
    }
   ],
   "source": [
    "# we use pandas cut method and pass the quantile edges calculated in the training set\n",
    "X_test['Age_disc_label'] = pd.cut(x = X_test.Age, bins=bins, labels=labels)\n",
    "X_test['Age_disc'] = pd.cut(x = X_test.Age, bins=bins)\n",
    "\n",
    "X_test.head()"
   ]
  },
  {
   "cell_type": "code",
   "execution_count": 16,
   "metadata": {},
   "outputs": [
    {
     "data": {
      "text/plain": [
       "Age_disc\n",
       "(0.67, 13.2]    26\n",
       "(13.2, 19.0]    38\n",
       "(19.0, 22.0]    24\n",
       "(22.0, 26.0]    33\n",
       "(26.0, 29.0]    21\n",
       "(29.0, 32.0]    25\n",
       "(32.0, 36.0]    22\n",
       "(36.0, 41.6]    22\n",
       "(41.6, 49.0]    23\n",
       "(49.0, 80.0]    32\n",
       "Name: Age, dtype: int64"
      ]
     },
     "execution_count": 16,
     "metadata": {},
     "output_type": "execute_result"
    }
   ],
   "source": [
    "# let's check that we have equal frequency (equal number of observations per bin)\n",
    "X_test.groupby('Age_disc')['Age'].count()"
   ]
  },
  {
   "cell_type": "markdown",
   "metadata": {},
   "source": [
    "### Discretisation by quantiles guarantees same number of observations in each partition/bin/interval"
   ]
  },
  {
   "cell_type": "code",
   "execution_count": 17,
   "metadata": {},
   "outputs": [
    {
     "data": {
      "text/plain": [
       "Age_disc\n",
       "(0.669, 13.2]    0.101124\n",
       "(13.2, 19.0]     0.115570\n",
       "(19.0, 22.0]     0.088283\n",
       "(22.0, 26.0]     0.113965\n",
       "(26.0, 29.0]     0.099518\n",
       "(29.0, 32.0]     0.088283\n",
       "(32.0, 36.0]     0.109149\n",
       "(36.0, 41.6]     0.083467\n",
       "(41.6, 49.0]     0.105939\n",
       "(49.0, 80.0]     0.094703\n",
       "Name: Survived, dtype: float64"
      ]
     },
     "execution_count": 17,
     "metadata": {},
     "output_type": "execute_result"
    }
   ],
   "source": [
    "t1 = X_train.groupby(['Age_disc'])['Survived'].count() / np.float(len(X_train))\n",
    "t1"
   ]
  },
  {
   "cell_type": "code",
   "execution_count": 18,
   "metadata": {},
   "outputs": [
    {
     "data": {
      "text/plain": [
       "Age_disc\n",
       "(0.67, 13.2]    0.097015\n",
       "(13.2, 19.0]    0.141791\n",
       "(19.0, 22.0]    0.089552\n",
       "(22.0, 26.0]    0.123134\n",
       "(26.0, 29.0]    0.078358\n",
       "(29.0, 32.0]    0.093284\n",
       "(32.0, 36.0]    0.082090\n",
       "(36.0, 41.6]    0.082090\n",
       "(41.6, 49.0]    0.085821\n",
       "(49.0, 80.0]    0.119403\n",
       "Name: Survived, dtype: float64"
      ]
     },
     "execution_count": 18,
     "metadata": {},
     "output_type": "execute_result"
    }
   ],
   "source": [
    "t2 = X_test.groupby(['Age_disc'])['Survived'].count() / np.float(len(X_test))\n",
    "t2"
   ]
  },
  {
   "cell_type": "code",
   "execution_count": 19,
   "metadata": {},
   "outputs": [
    {
     "data": {
      "text/html": [
       "<div>\n",
       "<style>\n",
       "    .dataframe thead tr:only-child th {\n",
       "        text-align: right;\n",
       "    }\n",
       "\n",
       "    .dataframe thead th {\n",
       "        text-align: left;\n",
       "    }\n",
       "\n",
       "    .dataframe tbody tr th {\n",
       "        vertical-align: top;\n",
       "    }\n",
       "</style>\n",
       "<table border=\"1\" class=\"dataframe\">\n",
       "  <thead>\n",
       "    <tr style=\"text-align: right;\">\n",
       "      <th></th>\n",
       "      <th>train</th>\n",
       "      <th>test</th>\n",
       "    </tr>\n",
       "    <tr>\n",
       "      <th>Age_disc</th>\n",
       "      <th></th>\n",
       "      <th></th>\n",
       "    </tr>\n",
       "  </thead>\n",
       "  <tbody>\n",
       "    <tr>\n",
       "      <th>(0.669, 13.2]</th>\n",
       "      <td>0.101124</td>\n",
       "      <td>0.097015</td>\n",
       "    </tr>\n",
       "    <tr>\n",
       "      <th>(13.2, 19.0]</th>\n",
       "      <td>0.115570</td>\n",
       "      <td>0.141791</td>\n",
       "    </tr>\n",
       "    <tr>\n",
       "      <th>(19.0, 22.0]</th>\n",
       "      <td>0.088283</td>\n",
       "      <td>0.089552</td>\n",
       "    </tr>\n",
       "    <tr>\n",
       "      <th>(22.0, 26.0]</th>\n",
       "      <td>0.113965</td>\n",
       "      <td>0.123134</td>\n",
       "    </tr>\n",
       "    <tr>\n",
       "      <th>(26.0, 29.0]</th>\n",
       "      <td>0.099518</td>\n",
       "      <td>0.078358</td>\n",
       "    </tr>\n",
       "    <tr>\n",
       "      <th>(29.0, 32.0]</th>\n",
       "      <td>0.088283</td>\n",
       "      <td>0.093284</td>\n",
       "    </tr>\n",
       "    <tr>\n",
       "      <th>(32.0, 36.0]</th>\n",
       "      <td>0.109149</td>\n",
       "      <td>0.082090</td>\n",
       "    </tr>\n",
       "    <tr>\n",
       "      <th>(36.0, 41.6]</th>\n",
       "      <td>0.083467</td>\n",
       "      <td>0.082090</td>\n",
       "    </tr>\n",
       "    <tr>\n",
       "      <th>(41.6, 49.0]</th>\n",
       "      <td>0.105939</td>\n",
       "      <td>0.085821</td>\n",
       "    </tr>\n",
       "    <tr>\n",
       "      <th>(49.0, 80.0]</th>\n",
       "      <td>0.094703</td>\n",
       "      <td>0.119403</td>\n",
       "    </tr>\n",
       "    <tr>\n",
       "      <th>(0.67, 13.2]</th>\n",
       "      <td>0.101124</td>\n",
       "      <td>0.097015</td>\n",
       "    </tr>\n",
       "  </tbody>\n",
       "</table>\n",
       "</div>"
      ],
      "text/plain": [
       "                  train      test\n",
       "Age_disc                         \n",
       "(0.669, 13.2]  0.101124  0.097015\n",
       "(13.2, 19.0]   0.115570  0.141791\n",
       "(19.0, 22.0]   0.088283  0.089552\n",
       "(22.0, 26.0]   0.113965  0.123134\n",
       "(26.0, 29.0]   0.099518  0.078358\n",
       "(29.0, 32.0]   0.088283  0.093284\n",
       "(32.0, 36.0]   0.109149  0.082090\n",
       "(36.0, 41.6]   0.083467  0.082090\n",
       "(41.6, 49.0]   0.105939  0.085821\n",
       "(49.0, 80.0]   0.094703  0.119403\n",
       "(0.67, 13.2]   0.101124  0.097015"
      ]
     },
     "execution_count": 19,
     "metadata": {},
     "output_type": "execute_result"
    }
   ],
   "source": [
    "temp = pd.concat([t1,t2], axis=1)\n",
    "temp.columns = ['train', 'test']\n",
    "temp"
   ]
  },
  {
   "cell_type": "code",
   "execution_count": 20,
   "metadata": {},
   "outputs": [
    {
     "data": {
      "text/plain": [
       "<matplotlib.axes._subplots.AxesSubplot at 0x4c11895be0>"
      ]
     },
     "execution_count": 20,
     "metadata": {},
     "output_type": "execute_result"
    },
    {
     "data": {
      "image/png": "[encoded data removed]",
      "text/plain": [
       "<matplotlib.figure.Figure at 0x4c1189cf98>"
      ]
     },
     "metadata": {},
     "output_type": "display_data"
    }
   ],
   "source": [
    "temp.plot.bar()"
   ]
  },
  {
   "cell_type": "markdown",
   "metadata": {},
   "source": [
    "Indeed, we see roughly the same frequency per interval in both training and testing set."
   ]
  },
  {
   "cell_type": "code",
   "execution_count": 21,
   "metadata": {},
   "outputs": [
    {
     "data": {
      "text/plain": [
       "<matplotlib.text.Text at 0x4c11a1c208>"
      ]
     },
     "execution_count": 21,
     "metadata": {},
     "output_type": "execute_result"
    },
    {
     "data": {
      "image/png": "[encoded data removed]",
      "text/plain": [
       "<matplotlib.figure.Figure at 0x4c119b2a20>"
      ]
     },
     "metadata": {},
     "output_type": "display_data"
    }
   ],
   "source": [
    "# and now let's observe the relationship between age and survival again, using the discrete Age transformed \n",
    "# variable\n",
    "\n",
    "fig = plt.figure()\n",
    "fig = X_train.groupby(['Age_disc'])['Survived'].mean().plot(figsize=(12,6))\n",
    "fig.set_title('Normal relationship between variable and target')\n",
    "fig.set_ylabel('Survived')"
   ]
  },
  {
   "cell_type": "markdown",
   "metadata": {},
   "source": [
    "Using discretisation we capture more clearly the survival rate according to the age of the passenger. We can see that children (<18) were the most likely to survive, and people in the early 30s as well, potentially mother with children, whereas people between 20-30 and older than 35 were the less likely to survive the tragedy.\n",
    "\n",
    "Now that we have a discrete variable, we can go ahead and preprocess it as categorical variable, to squeeze a bit more performance out of the machine learning algorithm. Why not ordering the bins according to survival rate?\n",
    "\n",
    "\n",
    "### Combine discretisation with label ordering according to target\n",
    "\n",
    "You can revise the lectures on engineering categorical variables to re-cap on how to preprocess labels.\n",
    "\n",
    "For this demonstration I will assign ordinal numbers to the different bins, according to the survival rate per bin."
   ]
  },
  {
   "cell_type": "code",
   "execution_count": 22,
   "metadata": {},
   "outputs": [
    {
     "data": {
      "text/html": [
       "<div>\n",
       "<style>\n",
       "    .dataframe thead tr:only-child th {\n",
       "        text-align: right;\n",
       "    }\n",
       "\n",
       "    .dataframe thead th {\n",
       "        text-align: left;\n",
       "    }\n",
       "\n",
       "    .dataframe tbody tr th {\n",
       "        vertical-align: top;\n",
       "    }\n",
       "</style>\n",
       "<table border=\"1\" class=\"dataframe\">\n",
       "  <thead>\n",
       "    <tr style=\"text-align: right;\">\n",
       "      <th></th>\n",
       "      <th>Age</th>\n",
       "      <th>Fare</th>\n",
       "      <th>Survived</th>\n",
       "      <th>Age_disc_label</th>\n",
       "      <th>Age_disc</th>\n",
       "      <th>Age_disc_ordered</th>\n",
       "    </tr>\n",
       "  </thead>\n",
       "  <tbody>\n",
       "    <tr>\n",
       "      <th>857</th>\n",
       "      <td>51.0</td>\n",
       "      <td>26.5500</td>\n",
       "      <td>1</td>\n",
       "      <td>Q10</td>\n",
       "      <td>(49.0, 80.0]</td>\n",
       "      <td>3</td>\n",
       "    </tr>\n",
       "    <tr>\n",
       "      <th>52</th>\n",
       "      <td>49.0</td>\n",
       "      <td>76.7292</td>\n",
       "      <td>1</td>\n",
       "      <td>Q9</td>\n",
       "      <td>(41.6, 49.0]</td>\n",
       "      <td>2</td>\n",
       "    </tr>\n",
       "    <tr>\n",
       "      <th>386</th>\n",
       "      <td>1.0</td>\n",
       "      <td>46.9000</td>\n",
       "      <td>0</td>\n",
       "      <td>Q1</td>\n",
       "      <td>(0.669, 13.2]</td>\n",
       "      <td>9</td>\n",
       "    </tr>\n",
       "    <tr>\n",
       "      <th>124</th>\n",
       "      <td>54.0</td>\n",
       "      <td>77.2875</td>\n",
       "      <td>0</td>\n",
       "      <td>Q10</td>\n",
       "      <td>(49.0, 80.0]</td>\n",
       "      <td>3</td>\n",
       "    </tr>\n",
       "    <tr>\n",
       "      <th>578</th>\n",
       "      <td>14.5</td>\n",
       "      <td>14.4583</td>\n",
       "      <td>0</td>\n",
       "      <td>Q2</td>\n",
       "      <td>(13.2, 19.0]</td>\n",
       "      <td>6</td>\n",
       "    </tr>\n",
       "  </tbody>\n",
       "</table>\n",
       "</div>"
      ],
      "text/plain": [
       "      Age     Fare  Survived Age_disc_label       Age_disc  Age_disc_ordered\n",
       "857  51.0  26.5500         1            Q10   (49.0, 80.0]                 3\n",
       "52   49.0  76.7292         1             Q9   (41.6, 49.0]                 2\n",
       "386   1.0  46.9000         0             Q1  (0.669, 13.2]                 9\n",
       "124  54.0  77.2875         0            Q10   (49.0, 80.0]                 3\n",
       "578  14.5  14.4583         0             Q2   (13.2, 19.0]                 6"
      ]
     },
     "execution_count": 22,
     "metadata": {},
     "output_type": "execute_result"
    }
   ],
   "source": [
    "# order the intervals according to survival rate\n",
    "ordered_labels = X_train.groupby(['Age_disc_label'])['Survived'].mean().sort_values().index\n",
    "\n",
    "# number the intervals according to survival rate\n",
    "ordinal_label = {k:i for i, k in enumerate(ordered_labels, 0)} \n",
    "\n",
    "# remap the intervals to the encoded variable\n",
    "X_train['Age_disc_ordered'] = X_train.Age_disc_label.map(ordinal_label)\n",
    "X_test['Age_disc_ordered'] = X_test.Age_disc_label.map(ordinal_label)\n",
    "\n",
    "X_train.head()"
   ]
  },
  {
   "cell_type": "code",
   "execution_count": 23,
   "metadata": {},
   "outputs": [
    {
     "data": {
      "text/plain": [
       "<matplotlib.text.Text at 0x4c11a817b8>"
      ]
     },
     "execution_count": 23,
     "metadata": {},
     "output_type": "execute_result"
    },
    {
     "data": {
      "image/png": "[encoded data removed]",
      "text/plain": [
       "<matplotlib.figure.Figure at 0x4c11aa7b00>"
      ]
     },
     "metadata": {},
     "output_type": "display_data"
    }
   ],
   "source": [
    "# plot the monotonic relationship\n",
    "fig = plt.figure()\n",
    "fig = X_train.groupby(['Age_disc_ordered'])['Survived'].mean().plot()\n",
    "fig.set_title('Monotonic relationship between discretised Age and target')\n",
    "fig.set_ylabel('Survived')"
   ]
  },
  {
   "cell_type": "markdown",
   "metadata": {
    "collapsed": true
   },
   "source": [
    "Go ahead and compare the performance machine learning algorithms using the original distribution of Age, Age discretised using quantiles and Age in quantiles followed by ordering according to Survival rate. Enjoy!"
   ]
  },
  {
   "cell_type": "markdown",
   "metadata": {},
   "source": [
    "### Fare\n",
    "\n",
    "Let's look at the benefit that can be bought forward by equal frequency discretisation on highly skewed variables like Fare."
   ]
  },
  {
   "cell_type": "code",
   "execution_count": 24,
   "metadata": {},
   "outputs": [
    {
     "data": {
      "text/plain": [
       "<matplotlib.axes._subplots.AxesSubplot at 0x4c11af6470>"
      ]
     },
     "execution_count": 24,
     "metadata": {},
     "output_type": "execute_result"
    },
    {
     "data": {
      "image/png": "[encoded data removed]",
      "text/plain": [
       "<matplotlib.figure.Figure at 0x4c11ac9208>"
      ]
     },
     "metadata": {},
     "output_type": "display_data"
    }
   ],
   "source": [
    "# let's plot the hist, to remind us of the skewness of Fare\n",
    "X_train.Fare.hist(bins=20)"
   ]
  },
  {
   "cell_type": "code",
   "execution_count": 25,
   "metadata": {},
   "outputs": [
    {
     "data": {
      "text/plain": [
       "<matplotlib.text.Text at 0x4c11bcacc0>"
      ]
     },
     "execution_count": 25,
     "metadata": {},
     "output_type": "execute_result"
    },
    {
     "data": {
      "image/png": "[encoded data removed]",
      "text/plain": [
       "<matplotlib.figure.Figure at 0x4c11bea780>"
      ]
     },
     "metadata": {},
     "output_type": "display_data"
    }
   ],
   "source": [
    "# let's plot survival rate per ticket price\n",
    "fig = plt.figure()\n",
    "fig = data.groupby(['Fare'])['Survived'].mean().plot()\n",
    "fig.set_title('Normal relationship between variable and target')\n",
    "fig.set_ylabel('Survived')"
   ]
  },
  {
   "cell_type": "markdown",
   "metadata": {},
   "source": [
    "The relationship between Fare and survival is not very clear from this plot. It looks very noisy for the lowest fares, and the survival rate was highest for highest fares, however, there were very few people that paid > 500 dollars, so most likely that survival rate is inflated.\n",
    "\n",
    "Let's go ahead and discretise Fare using equal frequency intervals, and plot again the survival rate and the number of observations within bins."
   ]
  },
  {
   "cell_type": "code",
   "execution_count": 26,
   "metadata": {},
   "outputs": [
    {
     "data": {
      "text/plain": [
       "<matplotlib.axes._subplots.AxesSubplot at 0x4c11a37978>"
      ]
     },
     "execution_count": 26,
     "metadata": {},
     "output_type": "execute_result"
    },
    {
     "data": {
      "image/png": "[encoded data removed]",
      "text/plain": [
       "<matplotlib.figure.Figure at 0x4c118acd68>"
      ]
     },
     "metadata": {},
     "output_type": "display_data"
    }
   ],
   "source": [
    "# calculate quantile boundaries on train set and create the discrete variable\n",
    "X_train['Fare_disc'], bins = pd.qcut(x=X_train.Fare, q=8, retbins=True, precision=3, duplicates='raise')\n",
    "\n",
    "# cut test set using bin boundaries estimated above\n",
    "X_test['Fare_disc'] = pd.cut(x = X_test.Fare, bins=bins)\n",
    "\n",
    "# if the distributions in train and test set are similar, we should expect similar distribution of \n",
    "# observations in the different intervals in the train and test set\n",
    "t1 = X_train.groupby(['Fare_disc'])['Survived'].count() / np.float(len(X_train))\n",
    "t2 = X_test.groupby(['Fare_disc'])['Survived'].count() / np.float(len(X_test))\n",
    "temp = pd.concat([t1,t2], axis=1)\n",
    "temp.columns = ['train', 'test']\n",
    "temp.plot.bar()"
   ]
  },
  {
   "cell_type": "markdown",
   "metadata": {},
   "source": [
    "Indeed, we have now spread the observations evenly for all the intervals in both train and test set. Let's go ahead and plot the survival rate per Fare once again."
   ]
  },
  {
   "cell_type": "code",
   "execution_count": 27,
   "metadata": {},
   "outputs": [
    {
     "data": {
      "text/plain": [
       "<matplotlib.text.Text at 0x4c11e11da0>"
      ]
     },
     "execution_count": 27,
     "metadata": {},
     "output_type": "execute_result"
    },
    {
     "data": {
      "image/png": "[encoded data removed]",
      "text/plain": [
       "<matplotlib.figure.Figure at 0x4c11c29b70>"
      ]
     },
     "metadata": {},
     "output_type": "display_data"
    }
   ],
   "source": [
    "# let's plot survival rate per ticket price bin\n",
    "fig = plt.figure()\n",
    "fig = X_train.groupby(['Fare_disc'])['Survived'].mean().plot(figsize=(12,6))\n",
    "fig.set_title('Normal relationship between variable and target')\n",
    "fig.set_ylabel('Survived')"
   ]
  },
  {
   "cell_type": "markdown",
   "metadata": {},
   "source": [
    "Now we get a much clearer view and as we have similar amount of passengers within each bucket, we can be confident that the conclusions are fair. We can see, clearly, that people that paid the highest Fares (>68 dollars) were the most likely to survive, and people who paid the lowest Fares (<10 dollars) were the less likely to survive. Sad but true.\n",
    "\n",
    "**That is all for this demonstration. I hope you enjoyed the notebook, and see you in the next one.**"
   ]
  },
  {
   "cell_type": "code",
   "execution_count": null,
   "metadata": {
    "collapsed": true
   },
   "outputs": [],
   "source": []
  }
 ],
 "metadata": {
  "kernelspec": {
   "display_name": "Python 3",
   "language": "python",
   "name": "python3"
  },
  "language_info": {
   "codemirror_mode": {
    "name": "ipython",
    "version": 3
   },
   "file_extension": ".py",
   "mimetype": "text/x-python",
   "name": "python",
   "nbconvert_exporter": "python",
   "pygments_lexer": "ipython3",
   "version": "3.6.1"
  },
  "toc": {
   "nav_menu": {},
   "number_sections": true,
   "sideBar": true,
   "skip_h1_title": false,
   "toc_cell": false,
   "toc_position": {},
   "toc_section_display": "block",
   "toc_window_display": true
  }
 },
 "nbformat": 4,
 "nbformat_minor": 2
}
