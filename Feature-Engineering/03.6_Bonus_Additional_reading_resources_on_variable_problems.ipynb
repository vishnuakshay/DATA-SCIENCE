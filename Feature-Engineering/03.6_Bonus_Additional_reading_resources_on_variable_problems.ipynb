{
 "cells": [
  {
   "cell_type": "markdown",
   "metadata": {},
   "source": [
    "## Bonus: Additional reading resources on variable problems\n",
    "\n",
    "### Further reading on missing data:\n",
    "\n",
    "- [Missing data imputation, chapter 25](http://www.stat.columbia.edu/~gelman/arm/missing.pdf).\n",
    "\n",
    "### Further reading on outliers:\n",
    "\n",
    "- [Why is AdaBoost algorithm sensitive to noisy data and outliers?](https://www.quora.com/Why-is-AdaBoost-algorithm-sensitive-to-noisy-data-and-outliers-And-how)\n",
    "- [Why is Logistic Regression robust to outliers compared to least squares?](https://www.quora.com/Why-is-logistic-regression-considered-robust-to-outliers-compared-to-a-least-square-method)\n",
    "- [Can Logistic Regression be considered robust to outliers?](https://www.quora.com/Can-Logistic-Regression-be-considered-robust-to-outliers)\n",
    "- [The Effects of Outlier Data on Neural Networks Performance](https://www.researchgate.net/profile/Azme_Khamis/publication/26568300_The_Effects_of_Outliers_Data_on_Neural_Network_Performance/links/564802c908ae54697fbc10de/The-Effects-of-Outliers-Data-on-Neural-Network-Performance.pdf)\n",
    "- [Outlier Analysis by C. Aggarwal](http://charuaggarwal.net/outlierbook.pdf)\n",
    "\n",
    "### Overview on Variable Problems\n",
    "\n",
    "- [Identifying common Data Mining Mistakes by SAS](https://www.mwsug.org/proceedings/2007/saspres/MWSUG-2007-SAS01.pdf)\n",
    "\n",
    "### Overview and Comparison of Machine Learning Algorithms\n",
    "\n",
    "- [Top 10 Machine Learning Algorithms](https://www.dezyre.com/article/top-10-machine-learning-algorithms/202)\n",
    "- [Choosing the Right Algorithm for Machine Learning](http://www.dummies.com/programming/big-data/data-science/choosing-right-algorithm-machine-learning/)\n",
    "- [Why does Gradient boosting work so well for so many Kaggle problems?](https://www.quora.com/Why-does-Gradient-boosting-work-so-well-for-so-many-Kaggle-problems)\n",
    "\n",
    "\n",
    "### Kaggle kernels for the Titanic Dataset\n",
    "\n",
    "- [Exploring Survival on the Titanic](https://www.kaggle.com/mrisdal/exploring-survival-on-the-titanic)\n",
    "- [Titanic Data Science Solutions](https://www.kaggle.com/startupsci/titanic-data-science-solutions/notebook)\n",
    "\n",
    "### Kaggle kernels for the Mercedes Benz Dataset\n",
    "\n",
    "- [Sherlock's Exploration {Season 01} - Categorical](https://www.kaggle.com/remidi/sherlock-s-exploration-season-01-categorical)\n",
    "- [Mercedes Benz Data Exploration](https://www.kaggle.com/aditya1702/mercedes-benz-data-exploration)\n",
    "- [Simple Exploration Notebook](https://www.kaggle.com/pcjimmmy/simple-exploration-notebook-mercedes)"
   ]
  },
  {
   "cell_type": "code",
   "execution_count": null,
   "metadata": {
    "collapsed": true
   },
   "outputs": [],
   "source": []
  }
 ],
 "metadata": {
  "kernelspec": {
   "display_name": "Python 3",
   "language": "python",
   "name": "python3"
  },
  "language_info": {
   "codemirror_mode": {
    "name": "ipython",
    "version": 3
   },
   "file_extension": ".py",
   "mimetype": "text/x-python",
   "name": "python",
   "nbconvert_exporter": "python",
   "pygments_lexer": "ipython3",
   "version": "3.6.1"
  },
  "toc": {
   "nav_menu": {},
   "number_sections": true,
   "sideBar": true,
   "skip_h1_title": false,
   "toc_cell": false,
   "toc_position": {},
   "toc_section_display": "block",
   "toc_window_display": false
  }
 },
 "nbformat": 4,
 "nbformat_minor": 2
}
