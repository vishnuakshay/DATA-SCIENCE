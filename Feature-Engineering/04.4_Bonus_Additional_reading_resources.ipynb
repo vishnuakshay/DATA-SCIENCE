{
 "cells": [
  {
   "cell_type": "markdown",
   "metadata": {},
   "source": [
    "## Bonus: Additional reading resources\n",
    "\n",
    "### Further reading on the importance of feature scaling\n",
    "\n",
    "- [Should I normalize/standardize/rescale the data?](http://www.faqs.org/faqs/ai-faq/neural-nets/part2/section-16.html)\n",
    "- [Efficient BackProp by Yann LeCun](http://yann.lecun.com/exdb/publis/pdf/lecun-98b.pdf)\n",
    "- [Standardization and Its Effects on K -Means Clustering Algorithm](http://maxwellsci.com/print/rjaset/v6-3299-3303.pdf)\n",
    "- [Feature scaling in support vector data description]](http://rduin.nl/papers/asci_02_occ.pdf)\n",
    "\n",
    "### Further reading on linear and non-linear models\n",
    "\n",
    "- [An introduction to Statistical Learning]](http://www-bcf.usc.edu/~gareth/ISL/ISLR%20First%20Printing.pdf)\n",
    "- [Elements of Statistical Learning]](http://www-bcf.usc.edu/~gareth/ISL/ISLR%20First%20Printing.pdf)\n",
    "\n",
    "\n",
    "### More on Q-Q Plots\n",
    "\n",
    "- [Q-Q Plots in wiki](https://en.wikipedia.org/wiki/Q%E2%80%93Q_plot)\n",
    "- [How to interpret a Q-Q plot](https://en.wikipedia.org/wiki/Q%E2%80%93Q_plot)\n",
    "- [Q-Q Plot visualisation tool](https://xiongge.shinyapps.io/QQplots/)\n",
    "\n",
    "### Kaggle kernels on the Sale Price dataset\n",
    "\n",
    "- [Comprehensive Data Exploration](https://www.kaggle.com/pmarcelino/comprehensive-data-exploration-with-python)"
   ]
  },
  {
   "cell_type": "code",
   "execution_count": null,
   "metadata": {
    "collapsed": true
   },
   "outputs": [],
   "source": []
  }
 ],
 "metadata": {
  "kernelspec": {
   "display_name": "Python 3",
   "language": "python",
   "name": "python3"
  },
  "language_info": {
   "codemirror_mode": {
    "name": "ipython",
    "version": 3
   },
   "file_extension": ".py",
   "mimetype": "text/x-python",
   "name": "python",
   "nbconvert_exporter": "python",
   "pygments_lexer": "ipython3",
   "version": "3.6.1"
  },
  "toc": {
   "nav_menu": {},
   "number_sections": true,
   "sideBar": true,
   "skip_h1_title": false,
   "toc_cell": false,
   "toc_position": {},
   "toc_section_display": "block",
   "toc_window_display": false
  }
 },
 "nbformat": 4,
 "nbformat_minor": 2
}
