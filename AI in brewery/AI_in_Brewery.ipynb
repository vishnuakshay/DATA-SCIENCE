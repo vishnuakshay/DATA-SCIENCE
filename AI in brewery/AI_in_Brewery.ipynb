{
  "nbformat": 4,
  "nbformat_minor": 0,
  "metadata": {
    "colab": {
      "provenance": [],
      "authorship_tag": "ABX9TyMGpIHUv0duf2rK3OJrssGg",
      "include_colab_link": true
    },
    "kernelspec": {
      "name": "python3",
      "display_name": "Python 3"
    },
    "language_info": {
      "name": "python"
    }
  },
  "cells": [
    {
      "cell_type": "markdown",
      "metadata": {
        "id": "view-in-github",
        "colab_type": "text"
      },
      "source": [
        "<a href=\"https://colab.research.google.com/github/vishnuakshay/DATA-SCIENCE/blob/master/AI_in_Brewery.ipynb\" target=\"_parent\"><img src=\"https://colab.research.google.com/assets/colab-badge.svg\" alt=\"Open In Colab\"/></a>"
      ]
    },
    {
      "cell_type": "code",
      "source": [
        "import pandas as pd\n",
        "from sklearn.model_selection import train_test_split\n",
        "from sklearn.ensemble import RandomForestRegressor\n",
        "from sklearn.metrics import mean_squared_error"
      ],
      "metadata": {
        "id": "s5G2o1AN6e1M"
      },
      "execution_count": 13,
      "outputs": []
    },
    {
      "cell_type": "code",
      "source": [
        "import pandas as pd\n",
        "from sklearn.model_selection import train_test_split\n",
        "from sklearn.ensemble import RandomForestRegressor\n",
        "from sklearn.metrics import mean_squared_error\n",
        "from sklearn.preprocessing import OneHotEncoder\n",
        "\n",
        "# Load the dataset into a pandas DataFrame, specifying the encoding as 'utf-8'\n",
        "data = pd.read_csv('/content/beer_dataset.csv', encoding='utf-8')\n",
        "\n",
        "# Separate the categorical features\n",
        "categorical_cols = ['Ingredients1', 'Ingredients2', 'Ingredients3', 'fermentation temperature', 'brewing time in weeks']\n",
        "categorical_data = data[categorical_cols]\n",
        "\n",
        "# Perform one-hot encoding on the categorical data\n",
        "encoder = OneHotEncoder(sparse=False, handle_unknown='ignore')\n",
        "encoded_data = encoder.fit_transform(categorical_data)\n",
        "\n",
        "# Create feature names for the one-hot encoded columns\n",
        "feature_names = []\n",
        "for i, column in enumerate(categorical_cols):\n",
        "  unique_values = data[column].unique()\n",
        "  feature_names.extend([f\"{column}_{value}\" for value in unique_values])\n",
        "\n",
        "# Create a DataFrame with the encoded features and feature names\n",
        "encoded_df = pd.DataFrame(encoded_data, columns=feature_names)\n",
        "\n",
        "# Combine the encoded features with the numerical features\n",
        "numerical_cols = ['Bitterness', 'Sweetness', 'Acidity', 'Aroma']\n",
        "numerical_data = data[numerical_cols]\n",
        "\n",
        "# Concatenate the encoded and numerical features\n",
        "processed_data = pd.concat([encoded_df, numerical_data], axis=1)\n",
        "\n",
        "# Split the dataset into features (X) and target variable (y)\n",
        "X = processed_data.drop(columns=numerical_cols)\n",
        "y = processed_data[numerical_cols]\n",
        "\n",
        "# Split the data into training and testing sets\n",
        "X_train, X_test, y_train, y_test = train_test_split(X, y, test_size=0.2, random_state=42)\n",
        "\n",
        "# Initialize the Random Forest Regressor model\n",
        "model = RandomForestRegressor()\n",
        "\n",
        "# Fit the model on the training data\n",
        "model.fit(X_train, y_train)\n",
        "\n",
        "# Predict on the testing data\n",
        "y_pred = model.predict(X_test)\n",
        "\n",
        "# Evaluate the model using mean squared error\n",
        "mse = mean_squared_error(y_test, y_pred)\n",
        "print(\"Mean Squared Error:\", mse)"
      ],
      "metadata": {
        "colab": {
          "base_uri": "https://localhost:8080/"
        },
        "id": "E8OcORxEfeJV",
        "outputId": "207829fb-4ffe-43ea-de59-ce6393117c2f"
      },
      "execution_count": 14,
      "outputs": [
        {
          "output_type": "stream",
          "name": "stdout",
          "text": [
            "Mean Squared Error: 0.402239168489581\n"
          ]
        },
        {
          "output_type": "stream",
          "name": "stderr",
          "text": [
            "/usr/local/lib/python3.10/dist-packages/sklearn/preprocessing/_encoders.py:868: FutureWarning: `sparse` was renamed to `sparse_output` in version 1.2 and will be removed in 1.4. `sparse_output` is ignored unless you leave `sparse` to its default value.\n",
            "  warnings.warn(\n"
          ]
        }
      ]
    }
  ]
}