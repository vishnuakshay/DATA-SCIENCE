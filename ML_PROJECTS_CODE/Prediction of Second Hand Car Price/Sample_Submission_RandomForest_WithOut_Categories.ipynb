{
 "cells": [
  {
   "cell_type": "code",
   "execution_count": 164,
   "metadata": {},
   "outputs": [
    {
     "name": "stdout",
     "output_type": "stream",
     "text": [
      "Requirement already satisfied: mlxtend in /anaconda3/lib/python3.7/site-packages (0.15.0.0)\n",
      "Requirement already satisfied: matplotlib>=1.5.1 in /anaconda3/lib/python3.7/site-packages (from mlxtend) (3.0.2)\n",
      "Requirement already satisfied: scikit-learn>=0.18 in /anaconda3/lib/python3.7/site-packages (from mlxtend) (0.20.1)\n",
      "Requirement already satisfied: pandas>=0.17.1 in /anaconda3/lib/python3.7/site-packages (from mlxtend) (0.23.4)\n",
      "Requirement already satisfied: numpy>=1.10.4 in /anaconda3/lib/python3.7/site-packages (from mlxtend) (1.15.4)\n",
      "Requirement already satisfied: scipy>=0.17 in /anaconda3/lib/python3.7/site-packages (from mlxtend) (1.1.0)\n",
      "Requirement already satisfied: setuptools in /anaconda3/lib/python3.7/site-packages (from mlxtend) (40.6.3)\n",
      "Requirement already satisfied: cycler>=0.10 in /anaconda3/lib/python3.7/site-packages (from matplotlib>=1.5.1->mlxtend) (0.10.0)\n",
      "Requirement already satisfied: kiwisolver>=1.0.1 in /anaconda3/lib/python3.7/site-packages (from matplotlib>=1.5.1->mlxtend) (1.0.1)\n",
      "Requirement already satisfied: pyparsing!=2.0.4,!=2.1.2,!=2.1.6,>=2.0.1 in /anaconda3/lib/python3.7/site-packages (from matplotlib>=1.5.1->mlxtend) (2.3.0)\n",
      "Requirement already satisfied: python-dateutil>=2.1 in /anaconda3/lib/python3.7/site-packages (from matplotlib>=1.5.1->mlxtend) (2.7.5)\n",
      "Requirement already satisfied: pytz>=2011k in /anaconda3/lib/python3.7/site-packages (from pandas>=0.17.1->mlxtend) (2018.7)\n",
      "Requirement already satisfied: six in /anaconda3/lib/python3.7/site-packages (from cycler>=0.10->matplotlib>=1.5.1->mlxtend) (1.12.0)\n",
      "Requirement already satisfied: pydotplus in /anaconda3/lib/python3.7/site-packages (2.0.2)\n",
      "Requirement already satisfied: pyparsing>=2.0.1 in /anaconda3/lib/python3.7/site-packages (from pydotplus) (2.3.0)\n",
      "Requirement already satisfied: scikit-surprise in /anaconda3/lib/python3.7/site-packages (1.0.6)\n",
      "Requirement already satisfied: joblib>=0.11 in /anaconda3/lib/python3.7/site-packages (from scikit-surprise) (0.13.2)\n",
      "Requirement already satisfied: six>=1.10.0 in /anaconda3/lib/python3.7/site-packages (from scikit-surprise) (1.12.0)\n",
      "Requirement already satisfied: scipy>=1.0.0 in /anaconda3/lib/python3.7/site-packages (from scikit-surprise) (1.1.0)\n",
      "Requirement already satisfied: numpy>=1.11.2 in /anaconda3/lib/python3.7/site-packages (from scikit-surprise) (1.15.4)\n",
      "Requirement already satisfied: xgboost in /anaconda3/lib/python3.7/site-packages (0.82)\n",
      "Requirement already satisfied: numpy in /anaconda3/lib/python3.7/site-packages (from xgboost) (1.15.4)\n",
      "Requirement already satisfied: scipy in /anaconda3/lib/python3.7/site-packages (from xgboost) (1.1.0)\n"
     ]
    }
   ],
   "source": [
    "# linear algebra\n",
    "import numpy as np \n",
    "\n",
    "# data processing\n",
    "import pandas as pd \n",
    "\n",
    "# data visualization\n",
    "import seaborn as sns\n",
    "%matplotlib inline\n",
    "from matplotlib import pyplot as plt\n",
    "from matplotlib import style\n",
    "\n",
    "# Algorithms\n",
    "from sklearn import linear_model\n",
    "from sklearn.linear_model import LogisticRegression\n",
    "from sklearn.ensemble import RandomForestClassifier\n",
    "from sklearn.linear_model import Perceptron\n",
    "from sklearn.linear_model import SGDClassifier\n",
    "from sklearn.tree import DecisionTreeClassifier\n",
    "from sklearn.neighbors import KNeighborsClassifier\n",
    "from sklearn.svm import SVC, LinearSVC\n",
    "from sklearn.naive_bayes import GaussianNB\n",
    "from sklearn.model_selection import train_test_split \n",
    "from sklearn.preprocessing import MinMaxScaler\n",
    "from sklearn.preprocessing import StandardScaler\n",
    "\n",
    "#Common Model Helpers\n",
    "from sklearn.preprocessing import OneHotEncoder, LabelEncoder\n",
    "from sklearn import feature_selection\n",
    "from sklearn import model_selection\n",
    "from sklearn import metrics\n",
    "from sklearn.metrics import accuracy_score\n",
    "\n",
    "#Visualization\n",
    "import matplotlib as mpl\n",
    "import matplotlib.pyplot as plt\n",
    "import matplotlib.pylab as pylab\n",
    "import seaborn as sns\n",
    "from pandas.tools.plotting import scatter_matrix\n",
    "from mpl_toolkits.mplot3d import Axes3D\n",
    "import random\n",
    "from sklearn.externals.six import StringIO  \n",
    "from IPython.display import Image  \n",
    "from sklearn.tree import export_graphviz\n",
    "import matplotlib.cm as cm\n",
    "\n",
    "# module required to install\n",
    "!pip install mlxtend\n",
    "!pip install pydotplus\n",
    "!pip install scikit-surprise\n",
    "!pip install xgboost\n",
    "import warnings\n",
    "warnings.filterwarnings('ignore')\n",
    "%matplotlib inline"
   ]
  },
  {
   "cell_type": "code",
   "execution_count": 165,
   "metadata": {},
   "outputs": [],
   "source": [
    "Train = pd.read_excel(\"Data_Train.xlsx\")\n",
    "Test=pd.read_excel(\"Data_Test.xlsx\")"
   ]
  },
  {
   "cell_type": "code",
   "execution_count": 166,
   "metadata": {},
   "outputs": [
    {
     "data": {
      "text/html": [
       "<div>\n",
       "<style scoped>\n",
       "    .dataframe tbody tr th:only-of-type {\n",
       "        vertical-align: middle;\n",
       "    }\n",
       "\n",
       "    .dataframe tbody tr th {\n",
       "        vertical-align: top;\n",
       "    }\n",
       "\n",
       "    .dataframe thead th {\n",
       "        text-align: right;\n",
       "    }\n",
       "</style>\n",
       "<table border=\"1\" class=\"dataframe\">\n",
       "  <thead>\n",
       "    <tr style=\"text-align: right;\">\n",
       "      <th></th>\n",
       "      <th>Name</th>\n",
       "      <th>Location</th>\n",
       "      <th>Year</th>\n",
       "      <th>Kilometers_Driven</th>\n",
       "      <th>Fuel_Type</th>\n",
       "      <th>Transmission</th>\n",
       "      <th>Owner_Type</th>\n",
       "      <th>Mileage</th>\n",
       "      <th>Engine</th>\n",
       "      <th>Power</th>\n",
       "      <th>Seats</th>\n",
       "      <th>New_Price</th>\n",
       "      <th>Price</th>\n",
       "    </tr>\n",
       "  </thead>\n",
       "  <tbody>\n",
       "    <tr>\n",
       "      <th>0</th>\n",
       "      <td>Maruti Wagon R LXI CNG</td>\n",
       "      <td>Mumbai</td>\n",
       "      <td>2010</td>\n",
       "      <td>72000</td>\n",
       "      <td>CNG</td>\n",
       "      <td>Manual</td>\n",
       "      <td>First</td>\n",
       "      <td>26.6 km/kg</td>\n",
       "      <td>998 CC</td>\n",
       "      <td>58.16 bhp</td>\n",
       "      <td>5.0</td>\n",
       "      <td>NaN</td>\n",
       "      <td>1.75</td>\n",
       "    </tr>\n",
       "    <tr>\n",
       "      <th>1</th>\n",
       "      <td>Hyundai Creta 1.6 CRDi SX Option</td>\n",
       "      <td>Pune</td>\n",
       "      <td>2015</td>\n",
       "      <td>41000</td>\n",
       "      <td>Diesel</td>\n",
       "      <td>Manual</td>\n",
       "      <td>First</td>\n",
       "      <td>19.67 kmpl</td>\n",
       "      <td>1582 CC</td>\n",
       "      <td>126.2 bhp</td>\n",
       "      <td>5.0</td>\n",
       "      <td>NaN</td>\n",
       "      <td>12.50</td>\n",
       "    </tr>\n",
       "    <tr>\n",
       "      <th>2</th>\n",
       "      <td>Honda Jazz V</td>\n",
       "      <td>Chennai</td>\n",
       "      <td>2011</td>\n",
       "      <td>46000</td>\n",
       "      <td>Petrol</td>\n",
       "      <td>Manual</td>\n",
       "      <td>First</td>\n",
       "      <td>18.2 kmpl</td>\n",
       "      <td>1199 CC</td>\n",
       "      <td>88.7 bhp</td>\n",
       "      <td>5.0</td>\n",
       "      <td>8.61 Lakh</td>\n",
       "      <td>4.50</td>\n",
       "    </tr>\n",
       "    <tr>\n",
       "      <th>3</th>\n",
       "      <td>Maruti Ertiga VDI</td>\n",
       "      <td>Chennai</td>\n",
       "      <td>2012</td>\n",
       "      <td>87000</td>\n",
       "      <td>Diesel</td>\n",
       "      <td>Manual</td>\n",
       "      <td>First</td>\n",
       "      <td>20.77 kmpl</td>\n",
       "      <td>1248 CC</td>\n",
       "      <td>88.76 bhp</td>\n",
       "      <td>7.0</td>\n",
       "      <td>NaN</td>\n",
       "      <td>6.00</td>\n",
       "    </tr>\n",
       "    <tr>\n",
       "      <th>4</th>\n",
       "      <td>Audi A4 New 2.0 TDI Multitronic</td>\n",
       "      <td>Coimbatore</td>\n",
       "      <td>2013</td>\n",
       "      <td>40670</td>\n",
       "      <td>Diesel</td>\n",
       "      <td>Automatic</td>\n",
       "      <td>Second</td>\n",
       "      <td>15.2 kmpl</td>\n",
       "      <td>1968 CC</td>\n",
       "      <td>140.8 bhp</td>\n",
       "      <td>5.0</td>\n",
       "      <td>NaN</td>\n",
       "      <td>17.74</td>\n",
       "    </tr>\n",
       "  </tbody>\n",
       "</table>\n",
       "</div>"
      ],
      "text/plain": [
       "                               Name    Location  Year  Kilometers_Driven  \\\n",
       "0            Maruti Wagon R LXI CNG      Mumbai  2010              72000   \n",
       "1  Hyundai Creta 1.6 CRDi SX Option        Pune  2015              41000   \n",
       "2                      Honda Jazz V     Chennai  2011              46000   \n",
       "3                 Maruti Ertiga VDI     Chennai  2012              87000   \n",
       "4   Audi A4 New 2.0 TDI Multitronic  Coimbatore  2013              40670   \n",
       "\n",
       "  Fuel_Type Transmission Owner_Type     Mileage   Engine      Power  Seats  \\\n",
       "0       CNG       Manual      First  26.6 km/kg   998 CC  58.16 bhp    5.0   \n",
       "1    Diesel       Manual      First  19.67 kmpl  1582 CC  126.2 bhp    5.0   \n",
       "2    Petrol       Manual      First   18.2 kmpl  1199 CC   88.7 bhp    5.0   \n",
       "3    Diesel       Manual      First  20.77 kmpl  1248 CC  88.76 bhp    7.0   \n",
       "4    Diesel    Automatic     Second   15.2 kmpl  1968 CC  140.8 bhp    5.0   \n",
       "\n",
       "   New_Price  Price  \n",
       "0        NaN   1.75  \n",
       "1        NaN  12.50  \n",
       "2  8.61 Lakh   4.50  \n",
       "3        NaN   6.00  \n",
       "4        NaN  17.74  "
      ]
     },
     "execution_count": 166,
     "metadata": {},
     "output_type": "execute_result"
    }
   ],
   "source": [
    "Train.head()"
   ]
  },
  {
   "cell_type": "code",
   "execution_count": 167,
   "metadata": {},
   "outputs": [
    {
     "data": {
      "text/html": [
       "<div>\n",
       "<style scoped>\n",
       "    .dataframe tbody tr th:only-of-type {\n",
       "        vertical-align: middle;\n",
       "    }\n",
       "\n",
       "    .dataframe tbody tr th {\n",
       "        vertical-align: top;\n",
       "    }\n",
       "\n",
       "    .dataframe thead th {\n",
       "        text-align: right;\n",
       "    }\n",
       "</style>\n",
       "<table border=\"1\" class=\"dataframe\">\n",
       "  <thead>\n",
       "    <tr style=\"text-align: right;\">\n",
       "      <th></th>\n",
       "      <th>Name</th>\n",
       "      <th>Location</th>\n",
       "      <th>Year</th>\n",
       "      <th>Kilometers_Driven</th>\n",
       "      <th>Fuel_Type</th>\n",
       "      <th>Transmission</th>\n",
       "      <th>Owner_Type</th>\n",
       "      <th>Mileage</th>\n",
       "      <th>Engine</th>\n",
       "      <th>Power</th>\n",
       "      <th>Seats</th>\n",
       "      <th>New_Price</th>\n",
       "    </tr>\n",
       "  </thead>\n",
       "  <tbody>\n",
       "    <tr>\n",
       "      <th>0</th>\n",
       "      <td>Maruti Alto K10 LXI CNG</td>\n",
       "      <td>Delhi</td>\n",
       "      <td>2014</td>\n",
       "      <td>40929</td>\n",
       "      <td>CNG</td>\n",
       "      <td>Manual</td>\n",
       "      <td>First</td>\n",
       "      <td>32.26 km/kg</td>\n",
       "      <td>998 CC</td>\n",
       "      <td>58.2 bhp</td>\n",
       "      <td>4.0</td>\n",
       "      <td>NaN</td>\n",
       "    </tr>\n",
       "    <tr>\n",
       "      <th>1</th>\n",
       "      <td>Maruti Alto 800 2016-2019 LXI</td>\n",
       "      <td>Coimbatore</td>\n",
       "      <td>2013</td>\n",
       "      <td>54493</td>\n",
       "      <td>Petrol</td>\n",
       "      <td>Manual</td>\n",
       "      <td>Second</td>\n",
       "      <td>24.7 kmpl</td>\n",
       "      <td>796 CC</td>\n",
       "      <td>47.3 bhp</td>\n",
       "      <td>5.0</td>\n",
       "      <td>NaN</td>\n",
       "    </tr>\n",
       "    <tr>\n",
       "      <th>2</th>\n",
       "      <td>Toyota Innova Crysta Touring Sport 2.4 MT</td>\n",
       "      <td>Mumbai</td>\n",
       "      <td>2017</td>\n",
       "      <td>34000</td>\n",
       "      <td>Diesel</td>\n",
       "      <td>Manual</td>\n",
       "      <td>First</td>\n",
       "      <td>13.68 kmpl</td>\n",
       "      <td>2393 CC</td>\n",
       "      <td>147.8 bhp</td>\n",
       "      <td>7.0</td>\n",
       "      <td>25.27 Lakh</td>\n",
       "    </tr>\n",
       "    <tr>\n",
       "      <th>3</th>\n",
       "      <td>Toyota Etios Liva GD</td>\n",
       "      <td>Hyderabad</td>\n",
       "      <td>2012</td>\n",
       "      <td>139000</td>\n",
       "      <td>Diesel</td>\n",
       "      <td>Manual</td>\n",
       "      <td>First</td>\n",
       "      <td>23.59 kmpl</td>\n",
       "      <td>1364 CC</td>\n",
       "      <td>null bhp</td>\n",
       "      <td>5.0</td>\n",
       "      <td>NaN</td>\n",
       "    </tr>\n",
       "    <tr>\n",
       "      <th>4</th>\n",
       "      <td>Hyundai i20 Magna</td>\n",
       "      <td>Mumbai</td>\n",
       "      <td>2014</td>\n",
       "      <td>29000</td>\n",
       "      <td>Petrol</td>\n",
       "      <td>Manual</td>\n",
       "      <td>First</td>\n",
       "      <td>18.5 kmpl</td>\n",
       "      <td>1197 CC</td>\n",
       "      <td>82.85 bhp</td>\n",
       "      <td>5.0</td>\n",
       "      <td>NaN</td>\n",
       "    </tr>\n",
       "  </tbody>\n",
       "</table>\n",
       "</div>"
      ],
      "text/plain": [
       "                                        Name    Location  Year  \\\n",
       "0                    Maruti Alto K10 LXI CNG       Delhi  2014   \n",
       "1              Maruti Alto 800 2016-2019 LXI  Coimbatore  2013   \n",
       "2  Toyota Innova Crysta Touring Sport 2.4 MT      Mumbai  2017   \n",
       "3                       Toyota Etios Liva GD   Hyderabad  2012   \n",
       "4                          Hyundai i20 Magna      Mumbai  2014   \n",
       "\n",
       "   Kilometers_Driven Fuel_Type Transmission Owner_Type      Mileage   Engine  \\\n",
       "0              40929       CNG       Manual      First  32.26 km/kg   998 CC   \n",
       "1              54493    Petrol       Manual     Second    24.7 kmpl   796 CC   \n",
       "2              34000    Diesel       Manual      First   13.68 kmpl  2393 CC   \n",
       "3             139000    Diesel       Manual      First   23.59 kmpl  1364 CC   \n",
       "4              29000    Petrol       Manual      First    18.5 kmpl  1197 CC   \n",
       "\n",
       "       Power  Seats   New_Price  \n",
       "0   58.2 bhp    4.0         NaN  \n",
       "1   47.3 bhp    5.0         NaN  \n",
       "2  147.8 bhp    7.0  25.27 Lakh  \n",
       "3   null bhp    5.0         NaN  \n",
       "4  82.85 bhp    5.0         NaN  "
      ]
     },
     "execution_count": 167,
     "metadata": {},
     "output_type": "execute_result"
    }
   ],
   "source": [
    "Test.head()"
   ]
  },
  {
   "cell_type": "code",
   "execution_count": 168,
   "metadata": {},
   "outputs": [
    {
     "data": {
      "text/html": [
       "<div>\n",
       "<style scoped>\n",
       "    .dataframe tbody tr th:only-of-type {\n",
       "        vertical-align: middle;\n",
       "    }\n",
       "\n",
       "    .dataframe tbody tr th {\n",
       "        vertical-align: top;\n",
       "    }\n",
       "\n",
       "    .dataframe thead th {\n",
       "        text-align: right;\n",
       "    }\n",
       "</style>\n",
       "<table border=\"1\" class=\"dataframe\">\n",
       "  <thead>\n",
       "    <tr style=\"text-align: right;\">\n",
       "      <th></th>\n",
       "      <th>Year</th>\n",
       "      <th>Kilometers_Driven</th>\n",
       "      <th>Seats</th>\n",
       "      <th>Price</th>\n",
       "    </tr>\n",
       "  </thead>\n",
       "  <tbody>\n",
       "    <tr>\n",
       "      <th>count</th>\n",
       "      <td>6019.000000</td>\n",
       "      <td>6.019000e+03</td>\n",
       "      <td>5977.000000</td>\n",
       "      <td>6019.000000</td>\n",
       "    </tr>\n",
       "    <tr>\n",
       "      <th>mean</th>\n",
       "      <td>2013.358199</td>\n",
       "      <td>5.873838e+04</td>\n",
       "      <td>5.278735</td>\n",
       "      <td>9.479468</td>\n",
       "    </tr>\n",
       "    <tr>\n",
       "      <th>std</th>\n",
       "      <td>3.269742</td>\n",
       "      <td>9.126884e+04</td>\n",
       "      <td>0.808840</td>\n",
       "      <td>11.187917</td>\n",
       "    </tr>\n",
       "    <tr>\n",
       "      <th>min</th>\n",
       "      <td>1998.000000</td>\n",
       "      <td>1.710000e+02</td>\n",
       "      <td>0.000000</td>\n",
       "      <td>0.440000</td>\n",
       "    </tr>\n",
       "    <tr>\n",
       "      <th>25%</th>\n",
       "      <td>2011.000000</td>\n",
       "      <td>3.400000e+04</td>\n",
       "      <td>5.000000</td>\n",
       "      <td>3.500000</td>\n",
       "    </tr>\n",
       "    <tr>\n",
       "      <th>50%</th>\n",
       "      <td>2014.000000</td>\n",
       "      <td>5.300000e+04</td>\n",
       "      <td>5.000000</td>\n",
       "      <td>5.640000</td>\n",
       "    </tr>\n",
       "    <tr>\n",
       "      <th>75%</th>\n",
       "      <td>2016.000000</td>\n",
       "      <td>7.300000e+04</td>\n",
       "      <td>5.000000</td>\n",
       "      <td>9.950000</td>\n",
       "    </tr>\n",
       "    <tr>\n",
       "      <th>max</th>\n",
       "      <td>2019.000000</td>\n",
       "      <td>6.500000e+06</td>\n",
       "      <td>10.000000</td>\n",
       "      <td>160.000000</td>\n",
       "    </tr>\n",
       "  </tbody>\n",
       "</table>\n",
       "</div>"
      ],
      "text/plain": [
       "              Year  Kilometers_Driven        Seats        Price\n",
       "count  6019.000000       6.019000e+03  5977.000000  6019.000000\n",
       "mean   2013.358199       5.873838e+04     5.278735     9.479468\n",
       "std       3.269742       9.126884e+04     0.808840    11.187917\n",
       "min    1998.000000       1.710000e+02     0.000000     0.440000\n",
       "25%    2011.000000       3.400000e+04     5.000000     3.500000\n",
       "50%    2014.000000       5.300000e+04     5.000000     5.640000\n",
       "75%    2016.000000       7.300000e+04     5.000000     9.950000\n",
       "max    2019.000000       6.500000e+06    10.000000   160.000000"
      ]
     },
     "execution_count": 168,
     "metadata": {},
     "output_type": "execute_result"
    }
   ],
   "source": [
    "Train.describe()"
   ]
  },
  {
   "cell_type": "code",
   "execution_count": 169,
   "metadata": {},
   "outputs": [
    {
     "data": {
      "text/plain": [
       "Name                  object\n",
       "Location              object\n",
       "Year                   int64\n",
       "Kilometers_Driven      int64\n",
       "Fuel_Type             object\n",
       "Transmission          object\n",
       "Owner_Type            object\n",
       "Mileage               object\n",
       "Engine                object\n",
       "Power                 object\n",
       "Seats                float64\n",
       "New_Price             object\n",
       "Price                float64\n",
       "dtype: object"
      ]
     },
     "execution_count": 169,
     "metadata": {},
     "output_type": "execute_result"
    }
   ],
   "source": [
    "Train.dtypes"
   ]
  },
  {
   "cell_type": "code",
   "execution_count": 170,
   "metadata": {},
   "outputs": [
    {
     "data": {
      "text/html": [
       "<div>\n",
       "<style scoped>\n",
       "    .dataframe tbody tr th:only-of-type {\n",
       "        vertical-align: middle;\n",
       "    }\n",
       "\n",
       "    .dataframe tbody tr th {\n",
       "        vertical-align: top;\n",
       "    }\n",
       "\n",
       "    .dataframe thead th {\n",
       "        text-align: right;\n",
       "    }\n",
       "</style>\n",
       "<table border=\"1\" class=\"dataframe\">\n",
       "  <thead>\n",
       "    <tr style=\"text-align: right;\">\n",
       "      <th></th>\n",
       "      <th>NA_Count</th>\n",
       "      <th>% of NA</th>\n",
       "    </tr>\n",
       "  </thead>\n",
       "  <tbody>\n",
       "    <tr>\n",
       "      <th>New_Price</th>\n",
       "      <td>5195</td>\n",
       "      <td>86.310018</td>\n",
       "    </tr>\n",
       "    <tr>\n",
       "      <th>Seats</th>\n",
       "      <td>42</td>\n",
       "      <td>0.697790</td>\n",
       "    </tr>\n",
       "    <tr>\n",
       "      <th>Engine</th>\n",
       "      <td>36</td>\n",
       "      <td>0.598106</td>\n",
       "    </tr>\n",
       "    <tr>\n",
       "      <th>Power</th>\n",
       "      <td>36</td>\n",
       "      <td>0.598106</td>\n",
       "    </tr>\n",
       "    <tr>\n",
       "      <th>Mileage</th>\n",
       "      <td>2</td>\n",
       "      <td>0.033228</td>\n",
       "    </tr>\n",
       "    <tr>\n",
       "      <th>Name</th>\n",
       "      <td>0</td>\n",
       "      <td>0.000000</td>\n",
       "    </tr>\n",
       "    <tr>\n",
       "      <th>Location</th>\n",
       "      <td>0</td>\n",
       "      <td>0.000000</td>\n",
       "    </tr>\n",
       "    <tr>\n",
       "      <th>Year</th>\n",
       "      <td>0</td>\n",
       "      <td>0.000000</td>\n",
       "    </tr>\n",
       "    <tr>\n",
       "      <th>Kilometers_Driven</th>\n",
       "      <td>0</td>\n",
       "      <td>0.000000</td>\n",
       "    </tr>\n",
       "    <tr>\n",
       "      <th>Fuel_Type</th>\n",
       "      <td>0</td>\n",
       "      <td>0.000000</td>\n",
       "    </tr>\n",
       "    <tr>\n",
       "      <th>Transmission</th>\n",
       "      <td>0</td>\n",
       "      <td>0.000000</td>\n",
       "    </tr>\n",
       "    <tr>\n",
       "      <th>Owner_Type</th>\n",
       "      <td>0</td>\n",
       "      <td>0.000000</td>\n",
       "    </tr>\n",
       "    <tr>\n",
       "      <th>Price</th>\n",
       "      <td>0</td>\n",
       "      <td>0.000000</td>\n",
       "    </tr>\n",
       "  </tbody>\n",
       "</table>\n",
       "</div>"
      ],
      "text/plain": [
       "                   NA_Count    % of NA\n",
       "New_Price              5195  86.310018\n",
       "Seats                    42   0.697790\n",
       "Engine                   36   0.598106\n",
       "Power                    36   0.598106\n",
       "Mileage                   2   0.033228\n",
       "Name                      0   0.000000\n",
       "Location                  0   0.000000\n",
       "Year                      0   0.000000\n",
       "Kilometers_Driven         0   0.000000\n",
       "Fuel_Type                 0   0.000000\n",
       "Transmission              0   0.000000\n",
       "Owner_Type                0   0.000000\n",
       "Price                     0   0.000000"
      ]
     },
     "execution_count": 170,
     "metadata": {},
     "output_type": "execute_result"
    }
   ],
   "source": [
    "## Calculating Column wise Percentage of NAs\n",
    "NA_col = pd.DataFrame(Train.isna().sum(), columns = ['NA_Count'])\n",
    "NA_col['% of NA'] = (NA_col.NA_Count/len(Train))*100\n",
    "NA_col.sort_values(by = ['% of NA'], ascending = False, na_position = 'first')"
   ]
  },
  {
   "cell_type": "code",
   "execution_count": 173,
   "metadata": {},
   "outputs": [
    {
     "data": {
      "text/plain": [
       "(6019, 13)"
      ]
     },
     "execution_count": 173,
     "metadata": {},
     "output_type": "execute_result"
    }
   ],
   "source": [
    "Train.shape"
   ]
  },
  {
   "cell_type": "code",
   "execution_count": 174,
   "metadata": {},
   "outputs": [
    {
     "data": {
      "text/plain": [
       "(1234, 12)"
      ]
     },
     "execution_count": 174,
     "metadata": {},
     "output_type": "execute_result"
    }
   ],
   "source": [
    "Test.shape"
   ]
  },
  {
   "cell_type": "code",
   "execution_count": 175,
   "metadata": {},
   "outputs": [
    {
     "data": {
      "text/plain": [
       "Name                  object\n",
       "Location              object\n",
       "Year                   int64\n",
       "Kilometers_Driven      int64\n",
       "Fuel_Type             object\n",
       "Transmission          object\n",
       "Owner_Type            object\n",
       "Mileage               object\n",
       "Engine                object\n",
       "Power                 object\n",
       "Seats                float64\n",
       "New_Price             object\n",
       "Price                float64\n",
       "dtype: object"
      ]
     },
     "execution_count": 175,
     "metadata": {},
     "output_type": "execute_result"
    }
   ],
   "source": [
    "Train.dtypes"
   ]
  },
  {
   "cell_type": "code",
   "execution_count": 176,
   "metadata": {},
   "outputs": [],
   "source": [
    "Train['Mileage']=Train['Mileage'].astype(str).str.replace('kmpl','')\n",
    "Train['Mileage']=Train['Mileage'].astype(str).str.replace('km/kg','')\n",
    "Train['Engine']=Train['Engine'].astype(str).str.replace('CC','')\n",
    "Train['Power']=Train['Power'].astype(str).str.replace('bhp','')\n",
    "Train['Power']=Train['Power'].astype(str).str.replace('nan','0')\n",
    "Train['Power']=Train['Power'].astype(str).str.replace('null','0')\n",
    "Test['Mileage']=Test['Mileage'].astype(str).str.replace('kmpl','')\n",
    "Test['Mileage']=Test['Mileage'].astype(str).str.replace('km/kg','')\n",
    "Test['Engine']=Test['Engine'].astype(str).str.replace('CC','')\n",
    "Test['Power']=Test['Power'].astype(str).str.replace('bhp','')\n",
    "Test['Power']=Test['Power'].astype(str).str.replace('nan','0')\n",
    "Test['Power']=Test['Power'].astype(str).str.replace('null','0')\n"
   ]
  },
  {
   "cell_type": "code",
   "execution_count": 177,
   "metadata": {},
   "outputs": [],
   "source": [
    "Train['Mileage']=Train['Mileage'].astype(str).astype(float)\n",
    "Train['Engine']=Train['Engine'].astype(str).astype(float)\n",
    "Train['Power']=Train['Power'].astype(str).astype(float)\n",
    "Test['Mileage']=Test['Mileage'].astype(str).astype(float)\n",
    "Test['Engine']=Test['Engine'].astype(str).astype(float)\n",
    "Test['Power']=Test['Power'].astype(str).astype(float)"
   ]
  },
  {
   "cell_type": "code",
   "execution_count": 178,
   "metadata": {},
   "outputs": [
    {
     "data": {
      "text/plain": [
       "Name                    0\n",
       "Location                0\n",
       "Year                    0\n",
       "Kilometers_Driven       0\n",
       "Fuel_Type               0\n",
       "Transmission            0\n",
       "Owner_Type              0\n",
       "Mileage                 2\n",
       "Engine                 36\n",
       "Power                   0\n",
       "Seats                  42\n",
       "New_Price            5195\n",
       "Price                   0\n",
       "dtype: int64"
      ]
     },
     "execution_count": 178,
     "metadata": {},
     "output_type": "execute_result"
    }
   ],
   "source": [
    "Train.isnull().sum()"
   ]
  },
  {
   "cell_type": "code",
   "execution_count": 179,
   "metadata": {},
   "outputs": [
    {
     "data": {
      "text/plain": [
       "Name                  object\n",
       "Location              object\n",
       "Year                   int64\n",
       "Kilometers_Driven      int64\n",
       "Fuel_Type             object\n",
       "Transmission          object\n",
       "Owner_Type            object\n",
       "Mileage              float64\n",
       "Engine               float64\n",
       "Power                float64\n",
       "Seats                float64\n",
       "New_Price             object\n",
       "Price                float64\n",
       "dtype: object"
      ]
     },
     "execution_count": 179,
     "metadata": {},
     "output_type": "execute_result"
    }
   ],
   "source": [
    "Train.dtypes"
   ]
  },
  {
   "cell_type": "code",
   "execution_count": 137,
   "metadata": {},
   "outputs": [
    {
     "data": {
      "image/png": "[encoded data removed]",
      "text/plain": [
       "<Figure size 842.4x595.44 with 1 Axes>"
      ]
     },
     "metadata": {},
     "output_type": "display_data"
    }
   ],
   "source": [
    "sns.set(rc={'figure.figsize':(11.7,8.27)})\n",
    "p = sns.countplot(data=Train, x = 'Fuel_Type')"
   ]
  },
  {
   "cell_type": "code",
   "execution_count": 138,
   "metadata": {},
   "outputs": [
    {
     "data": {
      "image/png": "[encoded data removed]",
      "text/plain": [
       "<Figure size 842.4x595.44 with 1 Axes>"
      ]
     },
     "metadata": {},
     "output_type": "display_data"
    }
   ],
   "source": [
    "p = sns.countplot(data=Train, x = 'Location')"
   ]
  },
  {
   "cell_type": "code",
   "execution_count": 139,
   "metadata": {},
   "outputs": [
    {
     "data": {
      "image/png": "[encoded data removed]",
      "text/plain": [
       "<Figure size 842.4x595.44 with 1 Axes>"
      ]
     },
     "metadata": {},
     "output_type": "display_data"
    }
   ],
   "source": [
    "p = sns.countplot(data=Train, x = 'Transmission')"
   ]
  },
  {
   "cell_type": "code",
   "execution_count": 180,
   "metadata": {},
   "outputs": [
    {
     "data": {
      "image/png": "[encoded data removed]",
      "text/plain": [
       "<Figure size 432x288 with 1 Axes>"
      ]
     },
     "metadata": {
      "needs_background": "light"
     },
     "output_type": "display_data"
    }
   ],
   "source": [
    "p = sns.countplot(data=Train, x = 'Owner_Type')"
   ]
  },
  {
   "cell_type": "code",
   "execution_count": 182,
   "metadata": {},
   "outputs": [
    {
     "data": {
      "text/html": [
       "<style  type=\"text/css\" >\n",
       "    #T_8e3e5db0_8de3_11e9_a4d0_1094bbee9ea4row0_col0 {\n",
       "            background-color:  #b40426;\n",
       "        }    #T_8e3e5db0_8de3_11e9_a4d0_1094bbee9ea4row0_col1 {\n",
       "            background-color:  #3b4cc0;\n",
       "        }    #T_8e3e5db0_8de3_11e9_a4d0_1094bbee9ea4row0_col2 {\n",
       "            background-color:  #eed0c0;\n",
       "        }    #T_8e3e5db0_8de3_11e9_a4d0_1094bbee9ea4row0_col3 {\n",
       "            background-color:  #adc9fd;\n",
       "        }    #T_8e3e5db0_8de3_11e9_a4d0_1094bbee9ea4row0_col4 {\n",
       "            background-color:  #b2ccfb;\n",
       "        }    #T_8e3e5db0_8de3_11e9_a4d0_1094bbee9ea4row0_col5 {\n",
       "            background-color:  #8badfd;\n",
       "        }    #T_8e3e5db0_8de3_11e9_a4d0_1094bbee9ea4row0_col6 {\n",
       "            background-color:  #d4dbe6;\n",
       "        }    #T_8e3e5db0_8de3_11e9_a4d0_1094bbee9ea4row1_col0 {\n",
       "            background-color:  #3b4cc0;\n",
       "        }    #T_8e3e5db0_8de3_11e9_a4d0_1094bbee9ea4row1_col1 {\n",
       "            background-color:  #b40426;\n",
       "        }    #T_8e3e5db0_8de3_11e9_a4d0_1094bbee9ea4row1_col2 {\n",
       "            background-color:  #aac7fd;\n",
       "        }    #T_8e3e5db0_8de3_11e9_a4d0_1094bbee9ea4row1_col3 {\n",
       "            background-color:  #cad8ef;\n",
       "        }    #T_8e3e5db0_8de3_11e9_a4d0_1094bbee9ea4row1_col4 {\n",
       "            background-color:  #a3c2fe;\n",
       "        }    #T_8e3e5db0_8de3_11e9_a4d0_1094bbee9ea4row1_col5 {\n",
       "            background-color:  #9ebeff;\n",
       "        }    #T_8e3e5db0_8de3_11e9_a4d0_1094bbee9ea4row1_col6 {\n",
       "            background-color:  #84a7fc;\n",
       "        }    #T_8e3e5db0_8de3_11e9_a4d0_1094bbee9ea4row2_col0 {\n",
       "            background-color:  #c6d6f1;\n",
       "        }    #T_8e3e5db0_8de3_11e9_a4d0_1094bbee9ea4row2_col1 {\n",
       "            background-color:  #5673e0;\n",
       "        }    #T_8e3e5db0_8de3_11e9_a4d0_1094bbee9ea4row2_col2 {\n",
       "            background-color:  #b40426;\n",
       "        }    #T_8e3e5db0_8de3_11e9_a4d0_1094bbee9ea4row2_col3 {\n",
       "            background-color:  #3b4cc0;\n",
       "        }    #T_8e3e5db0_8de3_11e9_a4d0_1094bbee9ea4row2_col4 {\n",
       "            background-color:  #3b4cc0;\n",
       "        }    #T_8e3e5db0_8de3_11e9_a4d0_1094bbee9ea4row2_col5 {\n",
       "            background-color:  #3b4cc0;\n",
       "        }    #T_8e3e5db0_8de3_11e9_a4d0_1094bbee9ea4row2_col6 {\n",
       "            background-color:  #3b4cc0;\n",
       "        }    #T_8e3e5db0_8de3_11e9_a4d0_1094bbee9ea4row3_col0 {\n",
       "            background-color:  #5a78e4;\n",
       "        }    #T_8e3e5db0_8de3_11e9_a4d0_1094bbee9ea4row3_col1 {\n",
       "            background-color:  #84a7fc;\n",
       "        }    #T_8e3e5db0_8de3_11e9_a4d0_1094bbee9ea4row3_col2 {\n",
       "            background-color:  #3b4cc0;\n",
       "        }    #T_8e3e5db0_8de3_11e9_a4d0_1094bbee9ea4row3_col3 {\n",
       "            background-color:  #b40426;\n",
       "        }    #T_8e3e5db0_8de3_11e9_a4d0_1094bbee9ea4row3_col4 {\n",
       "            background-color:  #d95847;\n",
       "        }    #T_8e3e5db0_8de3_11e9_a4d0_1094bbee9ea4row3_col5 {\n",
       "            background-color:  #e6d7cf;\n",
       "        }    #T_8e3e5db0_8de3_11e9_a4d0_1094bbee9ea4row3_col6 {\n",
       "            background-color:  #f59d7e;\n",
       "        }    #T_8e3e5db0_8de3_11e9_a4d0_1094bbee9ea4row4_col0 {\n",
       "            background-color:  #82a6fb;\n",
       "        }    #T_8e3e5db0_8de3_11e9_a4d0_1094bbee9ea4row4_col1 {\n",
       "            background-color:  #6f92f3;\n",
       "        }    #T_8e3e5db0_8de3_11e9_a4d0_1094bbee9ea4row4_col2 {\n",
       "            background-color:  #5d7ce6;\n",
       "        }    #T_8e3e5db0_8de3_11e9_a4d0_1094bbee9ea4row4_col3 {\n",
       "            background-color:  #d65244;\n",
       "        }    #T_8e3e5db0_8de3_11e9_a4d0_1094bbee9ea4row4_col4 {\n",
       "            background-color:  #b40426;\n",
       "        }    #T_8e3e5db0_8de3_11e9_a4d0_1094bbee9ea4row4_col5 {\n",
       "            background-color:  #a5c3fe;\n",
       "        }    #T_8e3e5db0_8de3_11e9_a4d0_1094bbee9ea4row4_col6 {\n",
       "            background-color:  #ec7f63;\n",
       "        }    #T_8e3e5db0_8de3_11e9_a4d0_1094bbee9ea4row5_col0 {\n",
       "            background-color:  #6c8ff1;\n",
       "        }    #T_8e3e5db0_8de3_11e9_a4d0_1094bbee9ea4row5_col1 {\n",
       "            background-color:  #81a4fb;\n",
       "        }    #T_8e3e5db0_8de3_11e9_a4d0_1094bbee9ea4row5_col2 {\n",
       "            background-color:  #7597f6;\n",
       "        }    #T_8e3e5db0_8de3_11e9_a4d0_1094bbee9ea4row5_col3 {\n",
       "            background-color:  #f4c6af;\n",
       "        }    #T_8e3e5db0_8de3_11e9_a4d0_1094bbee9ea4row5_col4 {\n",
       "            background-color:  #b7cff9;\n",
       "        }    #T_8e3e5db0_8de3_11e9_a4d0_1094bbee9ea4row5_col5 {\n",
       "            background-color:  #b40426;\n",
       "        }    #T_8e3e5db0_8de3_11e9_a4d0_1094bbee9ea4row5_col6 {\n",
       "            background-color:  #96b7ff;\n",
       "        }    #T_8e3e5db0_8de3_11e9_a4d0_1094bbee9ea4row6_col0 {\n",
       "            background-color:  #c3d5f4;\n",
       "        }    #T_8e3e5db0_8de3_11e9_a4d0_1094bbee9ea4row6_col1 {\n",
       "            background-color:  #6687ed;\n",
       "        }    #T_8e3e5db0_8de3_11e9_a4d0_1094bbee9ea4row6_col2 {\n",
       "            background-color:  #7597f6;\n",
       "        }    #T_8e3e5db0_8de3_11e9_a4d0_1094bbee9ea4row6_col3 {\n",
       "            background-color:  #f08a6c;\n",
       "        }    #T_8e3e5db0_8de3_11e9_a4d0_1094bbee9ea4row6_col4 {\n",
       "            background-color:  #e9785d;\n",
       "        }    #T_8e3e5db0_8de3_11e9_a4d0_1094bbee9ea4row6_col5 {\n",
       "            background-color:  #96b7ff;\n",
       "        }    #T_8e3e5db0_8de3_11e9_a4d0_1094bbee9ea4row6_col6 {\n",
       "            background-color:  #b40426;\n",
       "        }</style>  \n",
       "<table id=\"T_8e3e5db0_8de3_11e9_a4d0_1094bbee9ea4\" > \n",
       "<thead>    <tr> \n",
       "        <th class=\"blank level0\" ></th> \n",
       "        <th class=\"col_heading level0 col0\" >Year</th> \n",
       "        <th class=\"col_heading level0 col1\" >Kilometers_Driven</th> \n",
       "        <th class=\"col_heading level0 col2\" >Mileage</th> \n",
       "        <th class=\"col_heading level0 col3\" >Engine</th> \n",
       "        <th class=\"col_heading level0 col4\" >Power</th> \n",
       "        <th class=\"col_heading level0 col5\" >Seats</th> \n",
       "        <th class=\"col_heading level0 col6\" >Price</th> \n",
       "    </tr></thead> \n",
       "<tbody>    <tr> \n",
       "        <th id=\"T_8e3e5db0_8de3_11e9_a4d0_1094bbee9ea4level0_row0\" class=\"row_heading level0 row0\" >Year</th> \n",
       "        <td id=\"T_8e3e5db0_8de3_11e9_a4d0_1094bbee9ea4row0_col0\" class=\"data row0 col0\" >1</td> \n",
       "        <td id=\"T_8e3e5db0_8de3_11e9_a4d0_1094bbee9ea4row0_col1\" class=\"data row0 col1\" >-0.17</td> \n",
       "        <td id=\"T_8e3e5db0_8de3_11e9_a4d0_1094bbee9ea4row0_col2\" class=\"data row0 col2\" >0.32</td> \n",
       "        <td id=\"T_8e3e5db0_8de3_11e9_a4d0_1094bbee9ea4row0_col3\" class=\"data row0 col3\" >-0.052</td> \n",
       "        <td id=\"T_8e3e5db0_8de3_11e9_a4d0_1094bbee9ea4row0_col4\" class=\"data row0 col4\" >0.085</td> \n",
       "        <td id=\"T_8e3e5db0_8de3_11e9_a4d0_1094bbee9ea4row0_col5\" class=\"data row0 col5\" >0.012</td> \n",
       "        <td id=\"T_8e3e5db0_8de3_11e9_a4d0_1094bbee9ea4row0_col6\" class=\"data row0 col6\" >0.31</td> \n",
       "    </tr>    <tr> \n",
       "        <th id=\"T_8e3e5db0_8de3_11e9_a4d0_1094bbee9ea4level0_row1\" class=\"row_heading level0 row1\" >Kilometers_Driven</th> \n",
       "        <td id=\"T_8e3e5db0_8de3_11e9_a4d0_1094bbee9ea4row1_col0\" class=\"data row1 col0\" >-0.17</td> \n",
       "        <td id=\"T_8e3e5db0_8de3_11e9_a4d0_1094bbee9ea4row1_col1\" class=\"data row1 col1\" >1</td> \n",
       "        <td id=\"T_8e3e5db0_8de3_11e9_a4d0_1094bbee9ea4row1_col2\" class=\"data row1 col2\" >-0.065</td> \n",
       "        <td id=\"T_8e3e5db0_8de3_11e9_a4d0_1094bbee9ea4row1_col3\" class=\"data row1 col3\" >0.091</td> \n",
       "        <td id=\"T_8e3e5db0_8de3_11e9_a4d0_1094bbee9ea4row1_col4\" class=\"data row1 col4\" >0.023</td> \n",
       "        <td id=\"T_8e3e5db0_8de3_11e9_a4d0_1094bbee9ea4row1_col5\" class=\"data row1 col5\" >0.083</td> \n",
       "        <td id=\"T_8e3e5db0_8de3_11e9_a4d0_1094bbee9ea4row1_col6\" class=\"data row1 col6\" >-0.011</td> \n",
       "    </tr>    <tr> \n",
       "        <th id=\"T_8e3e5db0_8de3_11e9_a4d0_1094bbee9ea4level0_row2\" class=\"row_heading level0 row2\" >Mileage</th> \n",
       "        <td id=\"T_8e3e5db0_8de3_11e9_a4d0_1094bbee9ea4row2_col0\" class=\"data row2 col0\" >0.32</td> \n",
       "        <td id=\"T_8e3e5db0_8de3_11e9_a4d0_1094bbee9ea4row2_col1\" class=\"data row2 col1\" >-0.065</td> \n",
       "        <td id=\"T_8e3e5db0_8de3_11e9_a4d0_1094bbee9ea4row2_col2\" class=\"data row2 col2\" >1</td> \n",
       "        <td id=\"T_8e3e5db0_8de3_11e9_a4d0_1094bbee9ea4row2_col3\" class=\"data row2 col3\" >-0.6</td> \n",
       "        <td id=\"T_8e3e5db0_8de3_11e9_a4d0_1094bbee9ea4row2_col4\" class=\"data row2 col4\" >-0.42</td> \n",
       "        <td id=\"T_8e3e5db0_8de3_11e9_a4d0_1094bbee9ea4row2_col5\" class=\"data row2 col5\" >-0.31</td> \n",
       "        <td id=\"T_8e3e5db0_8de3_11e9_a4d0_1094bbee9ea4row2_col6\" class=\"data row2 col6\" >-0.31</td> \n",
       "    </tr>    <tr> \n",
       "        <th id=\"T_8e3e5db0_8de3_11e9_a4d0_1094bbee9ea4level0_row3\" class=\"row_heading level0 row3\" >Engine</th> \n",
       "        <td id=\"T_8e3e5db0_8de3_11e9_a4d0_1094bbee9ea4row3_col0\" class=\"data row3 col0\" >-0.052</td> \n",
       "        <td id=\"T_8e3e5db0_8de3_11e9_a4d0_1094bbee9ea4row3_col1\" class=\"data row3 col1\" >0.091</td> \n",
       "        <td id=\"T_8e3e5db0_8de3_11e9_a4d0_1094bbee9ea4row3_col2\" class=\"data row3 col2\" >-0.6</td> \n",
       "        <td id=\"T_8e3e5db0_8de3_11e9_a4d0_1094bbee9ea4row3_col3\" class=\"data row3 col3\" >1</td> \n",
       "        <td id=\"T_8e3e5db0_8de3_11e9_a4d0_1094bbee9ea4row3_col4\" class=\"data row3 col4\" >0.84</td> \n",
       "        <td id=\"T_8e3e5db0_8de3_11e9_a4d0_1094bbee9ea4row3_col5\" class=\"data row3 col5\" >0.39</td> \n",
       "        <td id=\"T_8e3e5db0_8de3_11e9_a4d0_1094bbee9ea4row3_col6\" class=\"data row3 col6\" >0.66</td> \n",
       "    </tr>    <tr> \n",
       "        <th id=\"T_8e3e5db0_8de3_11e9_a4d0_1094bbee9ea4level0_row4\" class=\"row_heading level0 row4\" >Power</th> \n",
       "        <td id=\"T_8e3e5db0_8de3_11e9_a4d0_1094bbee9ea4row4_col0\" class=\"data row4 col0\" >0.085</td> \n",
       "        <td id=\"T_8e3e5db0_8de3_11e9_a4d0_1094bbee9ea4row4_col1\" class=\"data row4 col1\" >0.023</td> \n",
       "        <td id=\"T_8e3e5db0_8de3_11e9_a4d0_1094bbee9ea4row4_col2\" class=\"data row4 col2\" >-0.42</td> \n",
       "        <td id=\"T_8e3e5db0_8de3_11e9_a4d0_1094bbee9ea4row4_col3\" class=\"data row4 col3\" >0.84</td> \n",
       "        <td id=\"T_8e3e5db0_8de3_11e9_a4d0_1094bbee9ea4row4_col4\" class=\"data row4 col4\" >1</td> \n",
       "        <td id=\"T_8e3e5db0_8de3_11e9_a4d0_1094bbee9ea4row4_col5\" class=\"data row4 col5\" >0.11</td> \n",
       "        <td id=\"T_8e3e5db0_8de3_11e9_a4d0_1094bbee9ea4row4_col6\" class=\"data row4 col6\" >0.75</td> \n",
       "    </tr>    <tr> \n",
       "        <th id=\"T_8e3e5db0_8de3_11e9_a4d0_1094bbee9ea4level0_row5\" class=\"row_heading level0 row5\" >Seats</th> \n",
       "        <td id=\"T_8e3e5db0_8de3_11e9_a4d0_1094bbee9ea4row5_col0\" class=\"data row5 col0\" >0.012</td> \n",
       "        <td id=\"T_8e3e5db0_8de3_11e9_a4d0_1094bbee9ea4row5_col1\" class=\"data row5 col1\" >0.083</td> \n",
       "        <td id=\"T_8e3e5db0_8de3_11e9_a4d0_1094bbee9ea4row5_col2\" class=\"data row5 col2\" >-0.31</td> \n",
       "        <td id=\"T_8e3e5db0_8de3_11e9_a4d0_1094bbee9ea4row5_col3\" class=\"data row5 col3\" >0.39</td> \n",
       "        <td id=\"T_8e3e5db0_8de3_11e9_a4d0_1094bbee9ea4row5_col4\" class=\"data row5 col4\" >0.11</td> \n",
       "        <td id=\"T_8e3e5db0_8de3_11e9_a4d0_1094bbee9ea4row5_col5\" class=\"data row5 col5\" >1</td> \n",
       "        <td id=\"T_8e3e5db0_8de3_11e9_a4d0_1094bbee9ea4row5_col6\" class=\"data row5 col6\" >0.052</td> \n",
       "    </tr>    <tr> \n",
       "        <th id=\"T_8e3e5db0_8de3_11e9_a4d0_1094bbee9ea4level0_row6\" class=\"row_heading level0 row6\" >Price</th> \n",
       "        <td id=\"T_8e3e5db0_8de3_11e9_a4d0_1094bbee9ea4row6_col0\" class=\"data row6 col0\" >0.31</td> \n",
       "        <td id=\"T_8e3e5db0_8de3_11e9_a4d0_1094bbee9ea4row6_col1\" class=\"data row6 col1\" >-0.011</td> \n",
       "        <td id=\"T_8e3e5db0_8de3_11e9_a4d0_1094bbee9ea4row6_col2\" class=\"data row6 col2\" >-0.31</td> \n",
       "        <td id=\"T_8e3e5db0_8de3_11e9_a4d0_1094bbee9ea4row6_col3\" class=\"data row6 col3\" >0.66</td> \n",
       "        <td id=\"T_8e3e5db0_8de3_11e9_a4d0_1094bbee9ea4row6_col4\" class=\"data row6 col4\" >0.75</td> \n",
       "        <td id=\"T_8e3e5db0_8de3_11e9_a4d0_1094bbee9ea4row6_col5\" class=\"data row6 col5\" >0.052</td> \n",
       "        <td id=\"T_8e3e5db0_8de3_11e9_a4d0_1094bbee9ea4row6_col6\" class=\"data row6 col6\" >1</td> \n",
       "    </tr></tbody> \n",
       "</table> "
      ],
      "text/plain": [
       "<pandas.io.formats.style.Styler at 0x1a21a237b8>"
      ]
     },
     "execution_count": 182,
     "metadata": {},
     "output_type": "execute_result"
    }
   ],
   "source": [
    "rs = np.random.RandomState(0)\n",
    "corr = Train.corr()\n",
    "corr.style.background_gradient(cmap='coolwarm').set_precision(2)"
   ]
  },
  {
   "cell_type": "code",
   "execution_count": 229,
   "metadata": {},
   "outputs": [
    {
     "data": {
      "text/plain": [
       "<matplotlib.axes._subplots.AxesSubplot at 0x1a21a30860>"
      ]
     },
     "execution_count": 229,
     "metadata": {},
     "output_type": "execute_result"
    },
    {
     "data": {
      "image/png": "[encoded data removed]",
      "text/plain": [
       "<Figure size 432x288 with 1 Axes>"
      ]
     },
     "metadata": {
      "needs_background": "light"
     },
     "output_type": "display_data"
    }
   ],
   "source": [
    "sns.kdeplot(Train['Price'], shade=True)"
   ]
  },
  {
   "cell_type": "code",
   "execution_count": 231,
   "metadata": {},
   "outputs": [
    {
     "ename": "KeyError",
     "evalue": "'Location'",
     "output_type": "error",
     "traceback": [
      "\u001b[0;31m---------------------------------------------------------------------------\u001b[0m",
      "\u001b[0;31mKeyError\u001b[0m                                  Traceback (most recent call last)",
      "\u001b[0;32m/anaconda3/lib/python3.7/site-packages/pandas/core/indexes/base.py\u001b[0m in \u001b[0;36mget_loc\u001b[0;34m(self, key, method, tolerance)\u001b[0m\n\u001b[1;32m   3077\u001b[0m             \u001b[0;32mtry\u001b[0m\u001b[0;34m:\u001b[0m\u001b[0;34m\u001b[0m\u001b[0;34m\u001b[0m\u001b[0m\n\u001b[0;32m-> 3078\u001b[0;31m                 \u001b[0;32mreturn\u001b[0m \u001b[0mself\u001b[0m\u001b[0;34m.\u001b[0m\u001b[0m_engine\u001b[0m\u001b[0;34m.\u001b[0m\u001b[0mget_loc\u001b[0m\u001b[0;34m(\u001b[0m\u001b[0mkey\u001b[0m\u001b[0;34m)\u001b[0m\u001b[0;34m\u001b[0m\u001b[0;34m\u001b[0m\u001b[0m\n\u001b[0m\u001b[1;32m   3079\u001b[0m             \u001b[0;32mexcept\u001b[0m \u001b[0mKeyError\u001b[0m\u001b[0;34m:\u001b[0m\u001b[0;34m\u001b[0m\u001b[0;34m\u001b[0m\u001b[0m\n",
      "\u001b[0;32mpandas/_libs/index.pyx\u001b[0m in \u001b[0;36mpandas._libs.index.IndexEngine.get_loc\u001b[0;34m()\u001b[0m\n",
      "\u001b[0;32mpandas/_libs/index.pyx\u001b[0m in \u001b[0;36mpandas._libs.index.IndexEngine.get_loc\u001b[0;34m()\u001b[0m\n",
      "\u001b[0;32mpandas/_libs/hashtable_class_helper.pxi\u001b[0m in \u001b[0;36mpandas._libs.hashtable.PyObjectHashTable.get_item\u001b[0;34m()\u001b[0m\n",
      "\u001b[0;32mpandas/_libs/hashtable_class_helper.pxi\u001b[0m in \u001b[0;36mpandas._libs.hashtable.PyObjectHashTable.get_item\u001b[0;34m()\u001b[0m\n",
      "\u001b[0;31mKeyError\u001b[0m: 'Location'",
      "\nDuring handling of the above exception, another exception occurred:\n",
      "\u001b[0;31mKeyError\u001b[0m                                  Traceback (most recent call last)",
      "\u001b[0;32m<ipython-input-231-411dc9644d8f>\u001b[0m in \u001b[0;36m<module>\u001b[0;34m\u001b[0m\n\u001b[0;32m----> 1\u001b[0;31m \u001b[0msns\u001b[0m\u001b[0;34m.\u001b[0m\u001b[0mboxplot\u001b[0m\u001b[0;34m(\u001b[0m \u001b[0mx\u001b[0m\u001b[0;34m=\u001b[0m\u001b[0mTrain\u001b[0m\u001b[0;34m[\u001b[0m\u001b[0;34m\"Location\"\u001b[0m\u001b[0;34m]\u001b[0m\u001b[0;34m,\u001b[0m \u001b[0my\u001b[0m\u001b[0;34m=\u001b[0m\u001b[0mTrain\u001b[0m\u001b[0;34m[\u001b[0m\u001b[0;34m\"Price\"\u001b[0m\u001b[0;34m]\u001b[0m \u001b[0;34m)\u001b[0m\u001b[0;34m\u001b[0m\u001b[0;34m\u001b[0m\u001b[0m\n\u001b[0m",
      "\u001b[0;32m/anaconda3/lib/python3.7/site-packages/pandas/core/frame.py\u001b[0m in \u001b[0;36m__getitem__\u001b[0;34m(self, key)\u001b[0m\n\u001b[1;32m   2686\u001b[0m             \u001b[0;32mreturn\u001b[0m \u001b[0mself\u001b[0m\u001b[0;34m.\u001b[0m\u001b[0m_getitem_multilevel\u001b[0m\u001b[0;34m(\u001b[0m\u001b[0mkey\u001b[0m\u001b[0;34m)\u001b[0m\u001b[0;34m\u001b[0m\u001b[0;34m\u001b[0m\u001b[0m\n\u001b[1;32m   2687\u001b[0m         \u001b[0;32melse\u001b[0m\u001b[0;34m:\u001b[0m\u001b[0;34m\u001b[0m\u001b[0;34m\u001b[0m\u001b[0m\n\u001b[0;32m-> 2688\u001b[0;31m             \u001b[0;32mreturn\u001b[0m \u001b[0mself\u001b[0m\u001b[0;34m.\u001b[0m\u001b[0m_getitem_column\u001b[0m\u001b[0;34m(\u001b[0m\u001b[0mkey\u001b[0m\u001b[0;34m)\u001b[0m\u001b[0;34m\u001b[0m\u001b[0;34m\u001b[0m\u001b[0m\n\u001b[0m\u001b[1;32m   2689\u001b[0m \u001b[0;34m\u001b[0m\u001b[0m\n\u001b[1;32m   2690\u001b[0m     \u001b[0;32mdef\u001b[0m \u001b[0m_getitem_column\u001b[0m\u001b[0;34m(\u001b[0m\u001b[0mself\u001b[0m\u001b[0;34m,\u001b[0m \u001b[0mkey\u001b[0m\u001b[0;34m)\u001b[0m\u001b[0;34m:\u001b[0m\u001b[0;34m\u001b[0m\u001b[0;34m\u001b[0m\u001b[0m\n",
      "\u001b[0;32m/anaconda3/lib/python3.7/site-packages/pandas/core/frame.py\u001b[0m in \u001b[0;36m_getitem_column\u001b[0;34m(self, key)\u001b[0m\n\u001b[1;32m   2693\u001b[0m         \u001b[0;31m# get column\u001b[0m\u001b[0;34m\u001b[0m\u001b[0;34m\u001b[0m\u001b[0;34m\u001b[0m\u001b[0m\n\u001b[1;32m   2694\u001b[0m         \u001b[0;32mif\u001b[0m \u001b[0mself\u001b[0m\u001b[0;34m.\u001b[0m\u001b[0mcolumns\u001b[0m\u001b[0;34m.\u001b[0m\u001b[0mis_unique\u001b[0m\u001b[0;34m:\u001b[0m\u001b[0;34m\u001b[0m\u001b[0;34m\u001b[0m\u001b[0m\n\u001b[0;32m-> 2695\u001b[0;31m             \u001b[0;32mreturn\u001b[0m \u001b[0mself\u001b[0m\u001b[0;34m.\u001b[0m\u001b[0m_get_item_cache\u001b[0m\u001b[0;34m(\u001b[0m\u001b[0mkey\u001b[0m\u001b[0;34m)\u001b[0m\u001b[0;34m\u001b[0m\u001b[0;34m\u001b[0m\u001b[0m\n\u001b[0m\u001b[1;32m   2696\u001b[0m \u001b[0;34m\u001b[0m\u001b[0m\n\u001b[1;32m   2697\u001b[0m         \u001b[0;31m# duplicate columns & possible reduce dimensionality\u001b[0m\u001b[0;34m\u001b[0m\u001b[0;34m\u001b[0m\u001b[0;34m\u001b[0m\u001b[0m\n",
      "\u001b[0;32m/anaconda3/lib/python3.7/site-packages/pandas/core/generic.py\u001b[0m in \u001b[0;36m_get_item_cache\u001b[0;34m(self, item)\u001b[0m\n\u001b[1;32m   2487\u001b[0m         \u001b[0mres\u001b[0m \u001b[0;34m=\u001b[0m \u001b[0mcache\u001b[0m\u001b[0;34m.\u001b[0m\u001b[0mget\u001b[0m\u001b[0;34m(\u001b[0m\u001b[0mitem\u001b[0m\u001b[0;34m)\u001b[0m\u001b[0;34m\u001b[0m\u001b[0;34m\u001b[0m\u001b[0m\n\u001b[1;32m   2488\u001b[0m         \u001b[0;32mif\u001b[0m \u001b[0mres\u001b[0m \u001b[0;32mis\u001b[0m \u001b[0;32mNone\u001b[0m\u001b[0;34m:\u001b[0m\u001b[0;34m\u001b[0m\u001b[0;34m\u001b[0m\u001b[0m\n\u001b[0;32m-> 2489\u001b[0;31m             \u001b[0mvalues\u001b[0m \u001b[0;34m=\u001b[0m \u001b[0mself\u001b[0m\u001b[0;34m.\u001b[0m\u001b[0m_data\u001b[0m\u001b[0;34m.\u001b[0m\u001b[0mget\u001b[0m\u001b[0;34m(\u001b[0m\u001b[0mitem\u001b[0m\u001b[0;34m)\u001b[0m\u001b[0;34m\u001b[0m\u001b[0;34m\u001b[0m\u001b[0m\n\u001b[0m\u001b[1;32m   2490\u001b[0m             \u001b[0mres\u001b[0m \u001b[0;34m=\u001b[0m \u001b[0mself\u001b[0m\u001b[0;34m.\u001b[0m\u001b[0m_box_item_values\u001b[0m\u001b[0;34m(\u001b[0m\u001b[0mitem\u001b[0m\u001b[0;34m,\u001b[0m \u001b[0mvalues\u001b[0m\u001b[0;34m)\u001b[0m\u001b[0;34m\u001b[0m\u001b[0;34m\u001b[0m\u001b[0m\n\u001b[1;32m   2491\u001b[0m             \u001b[0mcache\u001b[0m\u001b[0;34m[\u001b[0m\u001b[0mitem\u001b[0m\u001b[0;34m]\u001b[0m \u001b[0;34m=\u001b[0m \u001b[0mres\u001b[0m\u001b[0;34m\u001b[0m\u001b[0;34m\u001b[0m\u001b[0m\n",
      "\u001b[0;32m/anaconda3/lib/python3.7/site-packages/pandas/core/internals.py\u001b[0m in \u001b[0;36mget\u001b[0;34m(self, item, fastpath)\u001b[0m\n\u001b[1;32m   4113\u001b[0m \u001b[0;34m\u001b[0m\u001b[0m\n\u001b[1;32m   4114\u001b[0m             \u001b[0;32mif\u001b[0m \u001b[0;32mnot\u001b[0m \u001b[0misna\u001b[0m\u001b[0;34m(\u001b[0m\u001b[0mitem\u001b[0m\u001b[0;34m)\u001b[0m\u001b[0;34m:\u001b[0m\u001b[0;34m\u001b[0m\u001b[0;34m\u001b[0m\u001b[0m\n\u001b[0;32m-> 4115\u001b[0;31m                 \u001b[0mloc\u001b[0m \u001b[0;34m=\u001b[0m \u001b[0mself\u001b[0m\u001b[0;34m.\u001b[0m\u001b[0mitems\u001b[0m\u001b[0;34m.\u001b[0m\u001b[0mget_loc\u001b[0m\u001b[0;34m(\u001b[0m\u001b[0mitem\u001b[0m\u001b[0;34m)\u001b[0m\u001b[0;34m\u001b[0m\u001b[0;34m\u001b[0m\u001b[0m\n\u001b[0m\u001b[1;32m   4116\u001b[0m             \u001b[0;32melse\u001b[0m\u001b[0;34m:\u001b[0m\u001b[0;34m\u001b[0m\u001b[0;34m\u001b[0m\u001b[0m\n\u001b[1;32m   4117\u001b[0m                 \u001b[0mindexer\u001b[0m \u001b[0;34m=\u001b[0m \u001b[0mnp\u001b[0m\u001b[0;34m.\u001b[0m\u001b[0marange\u001b[0m\u001b[0;34m(\u001b[0m\u001b[0mlen\u001b[0m\u001b[0;34m(\u001b[0m\u001b[0mself\u001b[0m\u001b[0;34m.\u001b[0m\u001b[0mitems\u001b[0m\u001b[0;34m)\u001b[0m\u001b[0;34m)\u001b[0m\u001b[0;34m[\u001b[0m\u001b[0misna\u001b[0m\u001b[0;34m(\u001b[0m\u001b[0mself\u001b[0m\u001b[0;34m.\u001b[0m\u001b[0mitems\u001b[0m\u001b[0;34m)\u001b[0m\u001b[0;34m]\u001b[0m\u001b[0;34m\u001b[0m\u001b[0;34m\u001b[0m\u001b[0m\n",
      "\u001b[0;32m/anaconda3/lib/python3.7/site-packages/pandas/core/indexes/base.py\u001b[0m in \u001b[0;36mget_loc\u001b[0;34m(self, key, method, tolerance)\u001b[0m\n\u001b[1;32m   3078\u001b[0m                 \u001b[0;32mreturn\u001b[0m \u001b[0mself\u001b[0m\u001b[0;34m.\u001b[0m\u001b[0m_engine\u001b[0m\u001b[0;34m.\u001b[0m\u001b[0mget_loc\u001b[0m\u001b[0;34m(\u001b[0m\u001b[0mkey\u001b[0m\u001b[0;34m)\u001b[0m\u001b[0;34m\u001b[0m\u001b[0;34m\u001b[0m\u001b[0m\n\u001b[1;32m   3079\u001b[0m             \u001b[0;32mexcept\u001b[0m \u001b[0mKeyError\u001b[0m\u001b[0;34m:\u001b[0m\u001b[0;34m\u001b[0m\u001b[0;34m\u001b[0m\u001b[0m\n\u001b[0;32m-> 3080\u001b[0;31m                 \u001b[0;32mreturn\u001b[0m \u001b[0mself\u001b[0m\u001b[0;34m.\u001b[0m\u001b[0m_engine\u001b[0m\u001b[0;34m.\u001b[0m\u001b[0mget_loc\u001b[0m\u001b[0;34m(\u001b[0m\u001b[0mself\u001b[0m\u001b[0;34m.\u001b[0m\u001b[0m_maybe_cast_indexer\u001b[0m\u001b[0;34m(\u001b[0m\u001b[0mkey\u001b[0m\u001b[0;34m)\u001b[0m\u001b[0;34m)\u001b[0m\u001b[0;34m\u001b[0m\u001b[0;34m\u001b[0m\u001b[0m\n\u001b[0m\u001b[1;32m   3081\u001b[0m \u001b[0;34m\u001b[0m\u001b[0m\n\u001b[1;32m   3082\u001b[0m         \u001b[0mindexer\u001b[0m \u001b[0;34m=\u001b[0m \u001b[0mself\u001b[0m\u001b[0;34m.\u001b[0m\u001b[0mget_indexer\u001b[0m\u001b[0;34m(\u001b[0m\u001b[0;34m[\u001b[0m\u001b[0mkey\u001b[0m\u001b[0;34m]\u001b[0m\u001b[0;34m,\u001b[0m \u001b[0mmethod\u001b[0m\u001b[0;34m=\u001b[0m\u001b[0mmethod\u001b[0m\u001b[0;34m,\u001b[0m \u001b[0mtolerance\u001b[0m\u001b[0;34m=\u001b[0m\u001b[0mtolerance\u001b[0m\u001b[0;34m)\u001b[0m\u001b[0;34m\u001b[0m\u001b[0;34m\u001b[0m\u001b[0m\n",
      "\u001b[0;32mpandas/_libs/index.pyx\u001b[0m in \u001b[0;36mpandas._libs.index.IndexEngine.get_loc\u001b[0;34m()\u001b[0m\n",
      "\u001b[0;32mpandas/_libs/index.pyx\u001b[0m in \u001b[0;36mpandas._libs.index.IndexEngine.get_loc\u001b[0;34m()\u001b[0m\n",
      "\u001b[0;32mpandas/_libs/hashtable_class_helper.pxi\u001b[0m in \u001b[0;36mpandas._libs.hashtable.PyObjectHashTable.get_item\u001b[0;34m()\u001b[0m\n",
      "\u001b[0;32mpandas/_libs/hashtable_class_helper.pxi\u001b[0m in \u001b[0;36mpandas._libs.hashtable.PyObjectHashTable.get_item\u001b[0;34m()\u001b[0m\n",
      "\u001b[0;31mKeyError\u001b[0m: 'Location'"
     ]
    }
   ],
   "source": [
    "sns.boxplot( x=Train[\"Location\"], y=Train[\"Price\"] )"
   ]
  },
  {
   "cell_type": "code",
   "execution_count": 183,
   "metadata": {},
   "outputs": [],
   "source": [
    "Train.drop(['New_Price'], axis = 1, inplace = True)\n",
    "Test.drop(['New_Price'], axis = 1, inplace = True)"
   ]
  },
  {
   "cell_type": "code",
   "execution_count": 184,
   "metadata": {},
   "outputs": [],
   "source": [
    "Train.drop(['Name','Location','Fuel_Type','Transmission','Owner_Type'], axis = 1, inplace = True)\n",
    "Test.drop(['Name','Location','Fuel_Type','Transmission','Owner_Type'], axis = 1, inplace = True)"
   ]
  },
  {
   "cell_type": "code",
   "execution_count": 185,
   "metadata": {},
   "outputs": [
    {
     "name": "stdout",
     "output_type": "stream",
     "text": [
      "\n",
      "The train data size after dropping Id feature is : (6019, 7) \n",
      "The test data size after dropping Id feature is : (1234, 6) \n"
     ]
    }
   ],
   "source": [
    "print(\"\\nThe train data size after dropping Id feature is : {} \".format(Train.shape)) \n",
    "print(\"The test data size after dropping Id feature is : {} \".format(Test.shape))"
   ]
  },
  {
   "cell_type": "code",
   "execution_count": 186,
   "metadata": {},
   "outputs": [],
   "source": [
    "Train = Train[np.isfinite(Train['Engine'])]\n",
    "Train = Train[np.isfinite(Train['Seats'])]\n",
    "Train = Train[np.isfinite(Train['Mileage'])]\n",
    "Test = Test[np.isfinite(Test['Engine'])]\n",
    "Test = Test[np.isfinite(Test['Seats'])]"
   ]
  },
  {
   "cell_type": "code",
   "execution_count": 187,
   "metadata": {},
   "outputs": [
    {
     "data": {
      "text/plain": [
       "Year                 0\n",
       "Kilometers_Driven    0\n",
       "Mileage              0\n",
       "Engine               0\n",
       "Power                0\n",
       "Seats                0\n",
       "Price                0\n",
       "dtype: int64"
      ]
     },
     "execution_count": 187,
     "metadata": {},
     "output_type": "execute_result"
    }
   ],
   "source": [
    "Train.isnull().sum()"
   ]
  },
  {
   "cell_type": "code",
   "execution_count": 188,
   "metadata": {},
   "outputs": [],
   "source": [
    "from sklearn.model_selection import train_test_split\n",
    "\n",
    "train, test = train_test_split(Train, test_size = 0.3, random_state = 1920)"
   ]
  },
  {
   "cell_type": "code",
   "execution_count": 189,
   "metadata": {},
   "outputs": [],
   "source": [
    "X_train = train.copy().drop('Price', axis = 1)\n",
    "y_train = train['Price']\n",
    "X_test = test.copy().drop('Price', axis = 1)\n",
    "y_test = test['Price']"
   ]
  },
  {
   "cell_type": "code",
   "execution_count": 190,
   "metadata": {},
   "outputs": [],
   "source": [
    "num_cols=[\"Year\",\"Kilometers_Driven\",\"Mileage\",\"Engine\",\"Power\",\"Seats\"]"
   ]
  },
  {
   "cell_type": "code",
   "execution_count": 191,
   "metadata": {},
   "outputs": [],
   "source": [
    "## Scale the numeric attributes\n",
    "scaler = StandardScaler()\n",
    "scaler.fit(X_train[num_cols])\n",
    "X_train[num_cols] = scaler.transform(X_train[num_cols])\n",
    "X_test[num_cols] = scaler.transform(X_test[num_cols])"
   ]
  },
  {
   "cell_type": "code",
   "execution_count": 153,
   "metadata": {},
   "outputs": [],
   "source": [
    "## Scale the numeric attributes\n",
    "scaler = StandardScaler()\n",
    "scaler.fit(Test[num_cols])\n",
    "Test[num_cols] = scaler.transform(Test[num_cols])"
   ]
  },
  {
   "cell_type": "code",
   "execution_count": 192,
   "metadata": {},
   "outputs": [
    {
     "data": {
      "text/plain": [
       "(4182, 6)"
      ]
     },
     "execution_count": 192,
     "metadata": {},
     "output_type": "execute_result"
    }
   ],
   "source": [
    "X_train.shape"
   ]
  },
  {
   "cell_type": "code",
   "execution_count": 193,
   "metadata": {},
   "outputs": [
    {
     "data": {
      "text/plain": [
       "(1793, 6)"
      ]
     },
     "execution_count": 193,
     "metadata": {},
     "output_type": "execute_result"
    }
   ],
   "source": [
    "X_test.shape"
   ]
  },
  {
   "cell_type": "code",
   "execution_count": 194,
   "metadata": {},
   "outputs": [],
   "source": [
    "import numpy as np\n",
    "import matplotlib.pyplot as plt\n",
    "from sklearn.linear_model import LinearRegression\n",
    "from sklearn.metrics import mean_squared_error, r2_score"
   ]
  },
  {
   "cell_type": "code",
   "execution_count": 197,
   "metadata": {},
   "outputs": [
    {
     "data": {
      "text/plain": [
       "LinearRegression(copy_X=True, fit_intercept=True, n_jobs=None,\n",
       "         normalize=False)"
      ]
     },
     "execution_count": 197,
     "metadata": {},
     "output_type": "execute_result"
    }
   ],
   "source": [
    "# Model initialization\n",
    "## Linear Regression\n",
    "LinReg = LinearRegression()\n",
    "LinReg.fit(X_train, y_train)"
   ]
  },
  {
   "cell_type": "code",
   "execution_count": 198,
   "metadata": {},
   "outputs": [],
   "source": [
    "# Predict\n",
    "y_train_predicted = LinReg.predict(X_train)"
   ]
  },
  {
   "cell_type": "code",
   "execution_count": 202,
   "metadata": {},
   "outputs": [
    {
     "data": {
      "text/plain": [
       "array([ 2.02770653, -8.45328694,  7.39453929, ...,  4.59716842,\n",
       "       19.36675591,  7.46612214])"
      ]
     },
     "execution_count": 202,
     "metadata": {},
     "output_type": "execute_result"
    }
   ],
   "source": [
    "y_train_predicted"
   ]
  },
  {
   "cell_type": "code",
   "execution_count": 199,
   "metadata": {},
   "outputs": [],
   "source": [
    "# Predict on X_test\n",
    "y_test_predicted = LinReg.predict(X_test)"
   ]
  },
  {
   "cell_type": "code",
   "execution_count": 203,
   "metadata": {},
   "outputs": [
    {
     "data": {
      "text/plain": [
       "array([14.26990172,  0.65167861, -7.63414412, ..., -0.396012  ,\n",
       "        1.47243552, 17.38993711])"
      ]
     },
     "execution_count": 203,
     "metadata": {},
     "output_type": "execute_result"
    }
   ],
   "source": [
    "y_test_predicted"
   ]
  },
  {
   "cell_type": "code",
   "execution_count": 204,
   "metadata": {},
   "outputs": [],
   "source": [
    "# model evaluation\n",
    "rmse = mean_squared_error(y_train, y_train_predicted)\n",
    "r2 = r2_score(y_train, y_train_predicted)"
   ]
  },
  {
   "cell_type": "code",
   "execution_count": null,
   "metadata": {},
   "outputs": [],
   "source": []
  },
  {
   "cell_type": "code",
   "execution_count": 205,
   "metadata": {},
   "outputs": [
    {
     "name": "stdout",
     "output_type": "stream",
     "text": [
      "Intercept: 9.465083692013502\n",
      "Root mean squared error:  41.416778454689286\n",
      "R2 score:  67.0\n"
     ]
    }
   ],
   "source": [
    "# printing values\n",
    "\n",
    "# variance score: 1 means perfect prediction \n",
    "\n",
    "print('Intercept:', LinReg.intercept_)\n",
    "print('Root mean squared error: ', rmse)\n",
    "print('R2 score: ', round(r2,2)*100)"
   ]
  },
  {
   "cell_type": "code",
   "execution_count": 206,
   "metadata": {},
   "outputs": [],
   "source": [
    "# model evaluation\n",
    "rmse_test = mean_squared_error(y_test, y_test_predicted)\n",
    "r2_test = r2_score(y_test, y_test_predicted)"
   ]
  },
  {
   "cell_type": "code",
   "execution_count": 163,
   "metadata": {},
   "outputs": [
    {
     "name": "stdout",
     "output_type": "stream",
     "text": [
      "Root mean squared error:  44.730673793193546\n",
      "R2 score:  65.0\n"
     ]
    }
   ],
   "source": [
    "\n",
    "print('Root mean squared error: ', rmse_test)\n",
    "print('R2 score: ', round(r2_test,2)*100)"
   ]
  },
  {
   "cell_type": "code",
   "execution_count": 216,
   "metadata": {},
   "outputs": [
    {
     "data": {
      "text/plain": [
       "RandomForestRegressor(bootstrap=True, criterion='mse', max_depth=None,\n",
       "           max_features='auto', max_leaf_nodes=None,\n",
       "           min_impurity_decrease=0.0, min_impurity_split=None,\n",
       "           min_samples_leaf=1, min_samples_split=2,\n",
       "           min_weight_fraction_leaf=0.0, n_estimators=10, n_jobs=None,\n",
       "           oob_score=False, random_state=None, verbose=0, warm_start=False)"
      ]
     },
     "execution_count": 216,
     "metadata": {},
     "output_type": "execute_result"
    }
   ],
   "source": [
    "##Random Forest\n",
    "from sklearn.ensemble import RandomForestRegressor\n",
    "rfc = RandomForestRegressor()\n",
    "rfc.fit(X = X_train,y = y_train)"
   ]
  },
  {
   "cell_type": "code",
   "execution_count": 217,
   "metadata": {},
   "outputs": [],
   "source": [
    "pred_train_reg_ = rfc.predict(X_train)\n",
    "test_predictions = rfc.predict(X_test)\n",
    "Test_Pred_RF=rfc.predict(Test)"
   ]
  },
  {
   "cell_type": "code",
   "execution_count": 220,
   "metadata": {},
   "outputs": [],
   "source": [
    "rmse_test_rf = mean_squared_error(y_test, test_predictions)"
   ]
  },
  {
   "cell_type": "code",
   "execution_count": 223,
   "metadata": {},
   "outputs": [],
   "source": [
    "r2_test_rf = r2_score(y_test, test_predictions)"
   ]
  },
  {
   "cell_type": "code",
   "execution_count": 221,
   "metadata": {},
   "outputs": [
    {
     "name": "stdout",
     "output_type": "stream",
     "text": [
      "Root mean squared error:  20.27270524462373\n"
     ]
    }
   ],
   "source": [
    "print('Root mean squared error: ', rmse_test_rf)"
   ]
  },
  {
   "cell_type": "code",
   "execution_count": 224,
   "metadata": {},
   "outputs": [
    {
     "name": "stdout",
     "output_type": "stream",
     "text": [
      "R2 score:  84.0\n"
     ]
    }
   ],
   "source": [
    "print('R2 score: ', round(r2_test_rf,2)*100)"
   ]
  },
  {
   "cell_type": "code",
   "execution_count": 209,
   "metadata": {},
   "outputs": [],
   "source": [
    "def mean_absolute_percentage_error(y_train, pred_train_reg_): \n",
    "    y_train, pred_train_reg_ = np.array(y_train), np.array(pred_train_reg_)\n",
    "    return np.mean(np.abs((y_train - pred_train_reg_) / y_train)) * 100"
   ]
  },
  {
   "cell_type": "code",
   "execution_count": 211,
   "metadata": {},
   "outputs": [
    {
     "data": {
      "text/plain": [
       "8.051291345429904"
      ]
     },
     "execution_count": 211,
     "metadata": {},
     "output_type": "execute_result"
    }
   ],
   "source": [
    "mean_absolute_percentage_error(y_train, pred_train_reg_)"
   ]
  },
  {
   "cell_type": "code",
   "execution_count": 212,
   "metadata": {},
   "outputs": [],
   "source": [
    "def mean_absolute_percentage_error(y_test, test_predictions): \n",
    "    y_test, test_predictions = np.array(y_test), np.array(test_predictions)\n",
    "    return np.mean(np.abs((y_test - test_predictions) / y_test)) * 100"
   ]
  },
  {
   "cell_type": "code",
   "execution_count": 213,
   "metadata": {},
   "outputs": [
    {
     "data": {
      "text/plain": [
       "21.79955310887339"
      ]
     },
     "execution_count": 213,
     "metadata": {},
     "output_type": "execute_result"
    }
   ],
   "source": [
    "mean_absolute_percentage_error(y_test, test_predictions)"
   ]
  },
  {
   "cell_type": "code",
   "execution_count": 228,
   "metadata": {},
   "outputs": [],
   "source": [
    "pred_test_RandomForest= pd.DataFrame(Test_Pred_RF, columns=['Price']).to_excel('prediction_RandomForest.xlsx')"
   ]
  }
 ],
 "metadata": {
  "kernelspec": {
   "display_name": "Python 3",
   "language": "python",
   "name": "python3"
  },
  "language_info": {
   "codemirror_mode": {
    "name": "ipython",
    "version": 3
   },
   "file_extension": ".py",
   "mimetype": "text/x-python",
   "name": "python",
   "nbconvert_exporter": "python",
   "pygments_lexer": "ipython3",
   "version": "3.7.1"
  }
 },
 "nbformat": 4,
 "nbformat_minor": 2
}
